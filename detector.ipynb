{
 "cells": [
  {
   "cell_type": "code",
   "execution_count": 1,
   "metadata": {},
   "outputs": [],
   "source": [
    "from sklearn import preprocessing\n",
    "from sklearn.preprocessing import LabelEncoder\n",
    "from sklearn import metrics\n",
    "import pandas as pd\n",
    "from datetime import datetime, timedelta, timezone\n",
    "import time\n",
    "import numpy as np\n",
    "from scipy import stats\n",
    "import matplotlib.pyplot as plt\n",
    "import matplotlib.font_manager\n",
    "import seaborn as sns"
   ]
  },
  {
   "cell_type": "code",
   "execution_count": 2,
   "metadata": {},
   "outputs": [],
   "source": [
    "# Import models\n",
    "from pyod.models.abod import ABOD\n",
    "from pyod.models.knn import KNN\n",
    "from pyod.models.hbos import HBOS\n",
    "from pyod.models.iforest import IForest\n",
    "from pyod.models.feature_bagging import FeatureBagging"
   ]
  },
  {
   "cell_type": "code",
   "execution_count": 3,
   "metadata": {},
   "outputs": [],
   "source": [
    "# reading the dataset\n",
    "df = pd.read_csv(\"public/data_source/rca_2020_04_22.csv\")\n",
    "faultsDataFrame = pd.read_csv(\"public/data_source/ret_info.csv\")"
   ]
  },
  {
   "cell_type": "code",
   "execution_count": 4,
   "metadata": {},
   "outputs": [],
   "source": [
    "le = preprocessing.LabelEncoder()\n",
    "le.fit(df['source'])\n",
    "LabelEncoder()\n",
    "list(le.classes_)\n",
    "sourceTransformed = le.transform(df['source'])"
   ]
  },
  {
   "cell_type": "code",
   "execution_count": 5,
   "metadata": {},
   "outputs": [],
   "source": [
    "X1 = df['latency'].values.reshape(-1,1)\n",
    "X2 = sourceTransformed.reshape(-1,1)\n",
    "\n",
    "X = np.concatenate((X1,X2), axis=1)"
   ]
  },
  {
   "cell_type": "code",
   "execution_count": 6,
   "metadata": {},
   "outputs": [],
   "source": [
    "outliers_fraction = 0.1\n",
    "# Test 4 different methods\n",
    "classifiers = {\n",
    "        #'FeatureBagging': FeatureBagging(contamination=outliers_fraction),\n",
    "        'KNN': KNN(contamination=outliers_fraction),\n",
    "        'HBOS': HBOS(contamination=outliers_fraction),\n",
    "        #'IForest': IForest(contamination=outliers_fraction)\n",
    "}"
   ]
  },
  {
   "cell_type": "code",
   "execution_count": null,
   "metadata": {},
   "outputs": [],
   "source": [
    "def getMetricsConfusionMatrix(faults, predicted):\n",
    "    confusion_matrix = metrics.confusion_matrix(faults, predicted)\n",
    "    cm_display = metrics.ConfusionMatrixDisplay(confusion_matrix = confusion_matrix, display_labels = [False, True])\n",
    "    cm_display.plot()\n",
    "    plt.show()\n",
    "    del confusion_matrix, cm_display    "
   ]
  },
  {
   "cell_type": "code",
   "execution_count": 44,
   "metadata": {},
   "outputs": [],
   "source": [
    "def getConfusionMatrix(faults, predicted):\n",
    "    \n",
    "    truePositive = []\n",
    "    trueNegative = []\n",
    "    falsePositive = []\n",
    "    falseNegative = []\n",
    "    predicted = predicted.assign(date_time = list(map( lambda x: datetime.fromtimestamp(x/1000), predicted.timestamp)))\n",
    "    \n",
    "    for i, act in faults.iterrows():        \n",
    "        minTime = datetime.strptime(act.time_preliminary,'%Y-%m-%d %H:%M:%S+08:00')\n",
    "        maxTime = minTime + timedelta(minutes=5)\n",
    "\n",
    "        truePositive.append(predicted.loc[(predicted.date_time > minTime) & (predicted.date_time < maxTime) & (predicted.outliers == 1) & (predicted.source == act.ground_truth)])\n",
    "        trueNegative.append(predicted.loc[(predicted.date_time > minTime) & (predicted.date_time < maxTime) & (predicted.outliers == 0) & (predicted.source == act.ground_truth)])\n",
    "        falsePositive.append(predicted.loc[(predicted.date_time < minTime) | (predicted.date_time > maxTime) & (predicted.outliers == 1)])\n",
    "        falseNegative.append(predicted.loc[(predicted.date_time < minTime) | (predicted.date_time > maxTime) & (predicted.outliers == 0)])\n",
    "\n",
    "        del maxTime, minTime\n",
    "    \n",
    "    else: #remove all empty row\n",
    "        truePositive = list(filter(lambda dfTP: not dfTP.empty, truePositive))\n",
    "        print(\"\\n\\nTrue Positive \\n\", truePositive.head(5))\n",
    "        trueNegative = list(filter(lambda dfTN: not dfTN.empty, trueNegative))\n",
    "        falsePositive = list(filter(lambda dfFP: not dfFP.empty, falsePositive))\n",
    "        falseNegative = list(filter(lambda dfFN: not dfFN.empty, falseNegative))\n",
    "\n",
    "    return "
   ]
  },
  {
   "cell_type": "code",
   "execution_count": 46,
   "metadata": {},
   "outputs": [
    {
     "name": "stdout",
     "output_type": "stream",
     "text": [
      "\n",
      "\n",
      "OUTLIERS :  1711 INLIERS :  98288 KNN\n",
      "                 trace_id      timestamp  latency  succ  source      target\n",
      "55   5b93517183b7e8235950  1587484800070     2472  True  os_022  docker_001\n",
      "113  4e7db17183b7e8215848  1587484800132     2494  True  os_022  docker_001\n",
      "115  4e7db17183b7e8215848  1587484800033       84  True    None      os_022\n",
      "171  a127617183b7e8185834  1587484800133      251  True  os_022  docker_001\n",
      "173  a127617183b7e8185834  1587484800024      157  True    None      os_022\n",
      "\n",
      "\n",
      "True Positive \n",
      " [                   trace_id      timestamp  latency  succ      source  \\\n",
      "7502   b915c17183b82d5b8580  1587484818241      180  True  docker_003   \n",
      "7536   b915c17183b82d5b8580  1587484818840       99  True  docker_003   \n",
      "7538   b915c17183b82d5b8580  1587484818840      104  True  docker_003   \n",
      "7836   ee76a17183b82e498138  1587484818241      185  True  docker_003   \n",
      "7855   ee76a17183b82e498138  1587484818749      293  True  docker_003   \n",
      "...                     ...            ...      ...   ...         ...   \n",
      "83856  6d9f417183bb9c545298  1587485043084       52  True  docker_003   \n",
      "90844  3c6b417183bbb4629218  1587485049182       57  True  docker_003   \n",
      "96737  bead417183bbdce75640  1587485059740      190  True  docker_003   \n",
      "96872  7b61517183bbdd309290  1587485060140       99  True  docker_003   \n",
      "96906  2421c17183bbddf19296  1587485060240      208  True  docker_003   \n",
      "\n",
      "           target  outliers               date_time  \n",
      "7502   docker_005         1 2020-04-21 17:00:18.241  \n",
      "7536       db_007         1 2020-04-21 17:00:18.840  \n",
      "7538   docker_003         1 2020-04-21 17:00:18.840  \n",
      "7836   docker_006         1 2020-04-21 17:00:18.241  \n",
      "7855   docker_006         1 2020-04-21 17:00:18.749  \n",
      "...           ...       ...                     ...  \n",
      "83856  docker_006         1 2020-04-21 17:04:03.084  \n",
      "90844      db_009         1 2020-04-21 17:04:09.182  \n",
      "96737  docker_006         1 2020-04-21 17:04:19.740  \n",
      "96872      db_009         1 2020-04-21 17:04:20.140  \n",
      "96906  docker_006         1 2020-04-21 17:04:20.240  \n",
      "\n",
      "[101 rows x 8 columns]]\n",
      "\n",
      "\n",
      "OUTLIERS :  9 INLIERS :  99990 HBOS\n",
      "                   trace_id      timestamp  latency  succ source  target\n",
      "21932  ebc9417183b8d4118756  1587484860433     1525  True   None  os_021\n",
      "21990  e1fc017183b8d4148758  1587484860436     1525  True   None  os_021\n",
      "22222  0f38317183b8d47c9086  1587484860540     2022  True   None  os_022\n",
      "41366  b3f2717183b9bd184750  1587484920089     1776  True   None  os_021\n",
      "41482  31b8917183b9be848576  1587484920452     2374  True   None  os_021\n",
      "\n",
      "\n",
      "True Positive \n",
      " []\n"
     ]
    },
    {
     "data": {
      "text/plain": [
       "<Figure size 720x720 with 0 Axes>"
      ]
     },
     "metadata": {},
     "output_type": "display_data"
    }
   ],
   "source": [
    "xx, yy = np.meshgrid(np.linspace(-10, 10, 200), np.linspace(-10, 10, 200))\n",
    "plt.figure(figsize=(10, 10))\n",
    "\n",
    "for i, (clf_name, clf) in enumerate(classifiers.items()):\n",
    "    clf.fit(X)\n",
    "    \n",
    "    scores_pred = clf.decision_function(X) * -1\n",
    "\n",
    "    y_pred = clf.predict(X)\n",
    "\n",
    "    np.unique(y_pred, return_counts=True)\n",
    "\n",
    "    n_inliers = len(y_pred) - np.count_nonzero(y_pred)\n",
    "    n_outliers = np.count_nonzero(y_pred == 1)   \n",
    "\n",
    "    outliers = np.where(y_pred == 1)    \n",
    "    outliersList = df.iloc[outliers[0], :]\n",
    "\n",
    "    print('\\n\\nOUTLIERS : ', n_outliers, 'INLIERS : ', n_inliers, clf_name)\n",
    "    print(outliersList.head(5))\n",
    "    \n",
    "    predicted = df.assign(outliers = y_pred)\n",
    "    getConfusionMatrix(faultsDataFrame, predicted)\n",
    "\n",
    "    #pd.DataFrame(outliersList).to_csv(\"public/results/\"+clf_name+\"_preresult.csv\")\n",
    "\n",
    "    # threshold value to consider a datapoint inlier or outlier - the probability that the prediction is true\n",
    "#    threshold = stats.scoreatpercentile(scores_pred, 100 * outliers_fraction)\n",
    "\n",
    "    # decision function calculates the raw anomaly score for every point\n",
    "#    Z = clf.decision_function(np.c_[xx.ravel(), yy.ravel()]) * -1\n",
    "#    Z = Z.reshape(xx.shape)\n",
    "\n",
    "    # plot outliers and contour\n",
    "#    subplot = plt .subplot(2, 2, i + 1)\n",
    "#    subplot.contour(xx, yy, Z, levels=np.linspace(Z.min(), threshold, 15))\n",
    "#    subplot.contour(xx, yy, Z, levels=[threshold], linewidths=2, colors='red')\n",
    "\n",
    "    # fill orange contour lines where range of anomaly score is from threshold to maximum anomaly score\n",
    "#    subplot.contour(xx, yy, Z, levels=[threshold, Z.max()], colors='blue')\n",
    "\n",
    "    # scatter plot of inliers with white dots\n",
    "#    subplot.scatter(X[:-n_outliers, 0], X[:-n_outliers, 1],c='white', s=12, edgecolor='g')\n",
    "    # scatter plot of outliers with black dots\n",
    "#    subplot.scatter(X[:-n_outliers, 0], X[:-n_outliers, 1],c='black', s=12, edgecolor='g')\n",
    "#    subplot.axis('tight')\n",
    "\n",
    "#    subplot.set_title(clf_name)\n",
    "#    subplot.set_xlim((-15, 15))\n",
    "#    subplot.set_ylim((-15, 15))\n",
    "\n",
    "#plt.show()\n",
    "\n"
   ]
  }
 ],
 "metadata": {
  "kernelspec": {
   "display_name": "Python 3.10.5 64-bit",
   "language": "python",
   "name": "python3"
  },
  "language_info": {
   "codemirror_mode": {
    "name": "ipython",
    "version": 3
   },
   "file_extension": ".py",
   "mimetype": "text/x-python",
   "name": "python",
   "nbconvert_exporter": "python",
   "pygments_lexer": "ipython3",
   "version": "3.10.5"
  },
  "orig_nbformat": 4,
  "vscode": {
   "interpreter": {
    "hash": "26de051ba29f2982a8de78e945f0abaf191376122a1563185a90213a26c5da77"
   }
  }
 },
 "nbformat": 4,
 "nbformat_minor": 2
}
