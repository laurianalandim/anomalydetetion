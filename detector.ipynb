{
 "cells": [
  {
   "cell_type": "code",
   "execution_count": 1,
   "metadata": {},
   "outputs": [
    {
     "ename": "ModuleNotFoundError",
     "evalue": "No module named 'sklearn'",
     "output_type": "error",
     "traceback": [
      "\u001b[1;31m---------------------------------------------------------------------------\u001b[0m",
      "\u001b[1;31mModuleNotFoundError\u001b[0m                       Traceback (most recent call last)",
      "Cell \u001b[1;32mIn[1], line 1\u001b[0m\n\u001b[1;32m----> 1\u001b[0m \u001b[39mfrom\u001b[39;00m \u001b[39msklearn\u001b[39;00m \u001b[39mimport\u001b[39;00m preprocessing\n\u001b[0;32m      2\u001b[0m \u001b[39mimport\u001b[39;00m \u001b[39mpandas\u001b[39;00m \u001b[39mas\u001b[39;00m \u001b[39mpd\u001b[39;00m\n\u001b[0;32m      3\u001b[0m \u001b[39mfrom\u001b[39;00m \u001b[39mdatetime\u001b[39;00m \u001b[39mimport\u001b[39;00m datetime, timedelta\n",
      "\u001b[1;31mModuleNotFoundError\u001b[0m: No module named 'sklearn'"
     ]
    }
   ],
   "source": [
    "from sklearn import preprocessing\n",
    "import pandas as pd\n",
    "from datetime import datetime, timedelta\n",
    "import numpy as np\n",
    "import matplotlib.pyplot as plt"
   ]
  },
  {
   "cell_type": "code",
   "execution_count": null,
   "metadata": {},
   "outputs": [],
   "source": [
    "# Import models\n",
    "from pyod.models.abod import ABOD\n",
    "from pyod.models.knn import KNN\n",
    "from pyod.models.hbos import HBOS\n",
    "from pyod.models.iforest import IForest"
   ]
  },
  {
   "cell_type": "markdown",
   "metadata": {},
   "source": [
    "## Loading and Reviewing the Data"
   ]
  },
  {
   "cell_type": "code",
   "execution_count": null,
   "metadata": {},
   "outputs": [],
   "source": [
    "# reading the dataset\n",
    "df = pd.read_csv(\"public/data_source/rca_dataset_new.csv\")\n",
    "faultsDataFrame = pd.read_csv(\"public/data_source/ret_info.csv\")"
   ]
  },
  {
   "cell_type": "markdown",
   "metadata": {},
   "source": [
    "##### Change \"succ\" from boolean to integer, True=1, False=0"
   ]
  },
  {
   "cell_type": "code",
   "execution_count": null,
   "metadata": {},
   "outputs": [],
   "source": [
    "succ_map = {True : 1, False : 0}\n",
    "df['succ'] = df['succ'].map(succ_map)\n",
    "\n",
    "df['timestamp'] = df['timestamp'].apply(lambda d: datetime.fromtimestamp(int(d) / 1000))"
   ]
  },
  {
   "attachments": {},
   "cell_type": "markdown",
   "metadata": {},
   "source": [
    "##### Converting \"target\" to Int and Concatenate features that will be used"
   ]
  },
  {
   "cell_type": "code",
   "execution_count": null,
   "metadata": {},
   "outputs": [],
   "source": [
    "le = preprocessing.LabelEncoder()\n",
    "le.fit(df['target'])\n",
    "targetTransformed = le.transform(df['target'])\n",
    "\n",
    "X1 = df['latency'].values.reshape(-1,1)\n",
    "X2 = targetTransformed.reshape(-1,1)\n",
    "\n",
    "X = np.concatenate((X1,X2), axis=1)"
   ]
  },
  {
   "cell_type": "markdown",
   "metadata": {},
   "source": [
    "#### Algorithms"
   ]
  },
  {
   "cell_type": "code",
   "execution_count": null,
   "metadata": {},
   "outputs": [],
   "source": [
    "outliers_fraction = 0.2\n",
    "# Test 4 different methods\n",
    "classifiers = {\n",
    "        #'FeatureBagging': FeatureBagging(contamination=outliers_fraction),\n",
    "        'KNN': KNN(contamination=outliers_fraction)\n",
    "        #'HBOS': HBOS(contamination=outliers_fraction),\n",
    "        #'IForest': IForest(contamination=outliers_fraction)\n",
    "}"
   ]
  },
  {
   "cell_type": "code",
   "execution_count": null,
   "metadata": {},
   "outputs": [],
   "source": [
    "def getConfusionMatrix(faults, predicted):\n",
    "     \n",
    "     truePositive = []\n",
    "     trueNegative = []\n",
    "     falsePositive = []\n",
    "     falseNegative = []\n",
    "\n",
    "     for i, act in faults.iterrows():\n",
    "        minTime = np.datetime64(datetime.strptime(act.time_preliminary,'%Y-%m-%d %H:%M:%S+08:00'))\n",
    "        maxTime = minTime + np.timedelta64(5, 'm')\n",
    "\n",
    "        truePositive.append(predicted.loc[((predicted.timestamp > minTime) & (predicted.timestamp < maxTime)) & (predicted.is_outlier == 1) ])\n",
    "        trueNegative.append(predicted.loc[((predicted.timestamp < minTime) | (predicted.timestamp > maxTime)) & (predicted.is_outlier == 0) & (predicted.target == act.ground_truth)])\n",
    "        falsePositive.append(predicted.loc[((predicted.timestamp < minTime) | (predicted.timestamp > maxTime)) & (predicted.is_outlier == 1) & (predicted.target == act.ground_truth)])\n",
    "        falseNegative.append(predicted.loc[((predicted.timestamp > minTime) & (predicted.timestamp < maxTime)) & (predicted.is_outlier == 0) ])\n",
    "        del maxTime, minTime\n",
    "\n",
    "     else: \n",
    "          #remove duplicate row\n",
    "          trueP = pd.concat(truePositive).drop_duplicates().reset_index(inplace=True, drop=True)\n",
    "          trueN = pd.concat(trueNegative).drop_duplicates().reset_index(inplace=True, drop=True)\n",
    "          falseP = pd.concat(falsePositive).drop_duplicates().reset_index(inplace=True, drop=True)\n",
    "          falseN = pd.concat(falseNegative).drop_duplicates().reset_index(inplace=True, drop=True)\n",
    "\n",
    "          print(\"True Positive: \", trueP.shape[0])\n",
    "          print(\"True Negative: \", trueN.shape[0])\n",
    "          print(\"False Positive: \", falseP.shape[0])\n",
    "          print(\"False Negative: \", falseN.shape[0])\n",
    "\n",
    "     return"
   ]
  },
  {
   "cell_type": "code",
   "execution_count": null,
   "metadata": {},
   "outputs": [],
   "source": [
    "for i, (clf_name, clf) in enumerate(classifiers.items()):\n",
    "\n",
    "    clf.fit(X)\n",
    "    y_pred = clf.predict(X)\n",
    "\n",
    "    #  Predict if a particular sample is an outlier or not\n",
    "    scores_pred = clf.decision_function(X) * -1\n",
    "\n",
    "    np.unique(y_pred, return_counts=True)\n",
    "\n",
    "    n_outliers = np.count_nonzero(y_pred)\n",
    "    n_inliers = len(y_pred) - n_outliers\n",
    "\n",
    "    print('\\n\\nOUTLIERS: ', n_outliers, 'INLIERS: ', n_inliers, clf_name)\n",
    "\n",
    "    predictedDF = df.assign(is_outlier=y_pred)\n",
    "\n",
    "    #outliersDF = predictedDF.loc[lambda x: x.is_outlier == 1, :]\n",
    "    #inliersDF = predictedDF.loc[lambda x: x.is_outlier == 0, :]\n",
    "\n",
    "    #plt.scatter(inliersDF.timestamp, inliersDF.latency, color=\"green\", label=\"Inliers\", alpha= 0.3)\n",
    "    #plt.scatter(outliersDF.timestamp, outliersDF.latency, color=\"red\", label=\"Outliers\", alpha= 0.3)\n",
    "    #plt.xlabel(\"Time\")\n",
    "    #plt.ylabel(\"Latency\")\n",
    "    #plt.legend()\n",
    "    #plt.show()\n",
    "\n",
    "    getConfusionMatrix(faultsDataFrame, predictedDF)\n",
    "\n"
   ]
  }
 ],
 "metadata": {
  "kernelspec": {
   "display_name": "Python 3",
   "language": "python",
   "name": "python3"
  },
  "language_info": {
   "codemirror_mode": {
    "name": "ipython",
    "version": 3
   },
   "file_extension": ".py",
   "mimetype": "text/x-python",
   "name": "python",
   "nbconvert_exporter": "python",
   "pygments_lexer": "ipython3",
   "version": "3.10.9"
  },
  "orig_nbformat": 4,
  "vscode": {
   "interpreter": {
    "hash": "845d27ea1010dbd02beaa0a5bdd0c9575588b85e87b8fb6a65b5ac6879a8e843"
   }
  }
 },
 "nbformat": 4,
 "nbformat_minor": 2
}
