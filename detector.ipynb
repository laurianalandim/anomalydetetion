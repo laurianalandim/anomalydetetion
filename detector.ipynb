{
 "cells": [
  {
   "cell_type": "code",
   "execution_count": null,
   "metadata": {},
   "outputs": [],
   "source": [
    "from sklearn import preprocessing\n",
    "import pandas as pd\n",
    "from datetime import datetime, timedelta\n",
    "import numpy as np\n",
    "import matplotlib.pyplot as plt"
   ]
  },
  {
   "cell_type": "code",
   "execution_count": null,
   "metadata": {},
   "outputs": [],
   "source": [
    "# Import models\n",
    "from pyod.models.abod import ABOD\n",
    "from pyod.models.knn import KNN\n",
    "from pyod.models.hbos import HBOS\n",
    "from pyod.models.iforest import IForest"
   ]
  },
  {
   "cell_type": "markdown",
   "metadata": {},
   "source": [
    "## Loading and Reviewing the Data"
   ]
  },
  {
   "cell_type": "code",
   "execution_count": null,
   "metadata": {},
   "outputs": [],
   "source": [
    "# reading the dataset\n",
    "df = pd.read_csv(\"public/data_source/rca_dataset.csv\")\n",
    "faultsDataFrame = pd.read_csv(\"public/data_source/ret_info.csv\")"
   ]
  },
  {
   "cell_type": "markdown",
   "metadata": {},
   "source": [
    "##### Change \"succ\" from boolean to integer, True=1, False=0"
   ]
  },
  {
   "cell_type": "code",
   "execution_count": null,
   "metadata": {},
   "outputs": [],
   "source": [
    "succ_map = {True : 1, False : 0}\n",
    "df['succ'] = df['succ'].map(succ_map)\n",
    "\n",
    "df['timestamp'] = df['timestamp'].apply(lambda d: datetime.fromtimestamp(int(d) / 1000))"
   ]
  },
  {
   "attachments": {},
   "cell_type": "markdown",
   "metadata": {},
   "source": [
    "##### Converting \"target\" to Int and Concatenate features that will be used"
   ]
  },
  {
   "cell_type": "code",
   "execution_count": null,
   "metadata": {},
   "outputs": [],
   "source": [
    "le = preprocessing.LabelEncoder()\n",
    "le.fit(df['target'])\n",
    "targetTransformed = le.transform(df['target'])\n",
    "\n",
    "X1 = df['latency'].values.reshape(-1,1)\n",
    "X2 = targetTransformed.reshape(-1,1)\n",
    "\n",
    "X = np.concatenate((X1,X2), axis=1)"
   ]
  },
  {
   "cell_type": "markdown",
   "metadata": {},
   "source": [
    "#### Algorithms"
   ]
  },
  {
   "cell_type": "code",
   "execution_count": null,
   "metadata": {},
   "outputs": [],
   "source": [
    "outliers_fraction = 0.1\n",
    "# Test 4 different methods\n",
    "classifiers = {\n",
    "        #'FeatureBagging': FeatureBagging(contamination=outliers_fraction),\n",
    "        'KNN': KNN(contamination=outliers_fraction),\n",
    "        #'HBOS': HBOS(contamination=outliers_fraction),\n",
    "        #'IForest': IForest(contamination=outliers_fraction)\n",
    "}"
   ]
  },
  {
   "cell_type": "code",
   "execution_count": null,
   "metadata": {},
   "outputs": [],
   "source": [
    "def getConfusionMatrix(faults, predicted):\n",
    "\n",
    "     truePositive = []\n",
    "     trueNegative = []\n",
    "     falsePositive = []\n",
    "     falseNegative = []\n",
    "     \n",
    "     #predicted = predicted.timestamp.apply(lambda dt: datetime.strftime(dt.timestamp))\n",
    "\n",
    "     for i, act in faults.iterrows():\n",
    "        minTime = datetime.strptime(act.time_preliminary,'%Y-%m-%d %H:%M:%S+08:00')\n",
    "        maxTime = minTime + timedelta(minutes=5)\n",
    "\n",
    "        truePositive.append(predicted.loc[(predicted.timestamp > minTime) & (predicted.timestamp < maxTime) & (predicted.is_outlier == 1) & (predicted.target == act.ground_truth)])\n",
    "        trueNegative.append(predicted.loc[(predicted.timestamp < minTime) | (predicted.timestamp > maxTime) & (predicted.is_outlier == 0) & (predicted.target == act.ground_truth)])\n",
    "        falsePositive.append(predicted.loc[(predicted.timestamp > minTime) & (predicted.timestamp < maxTime) & (predicted.is_outlier == 1) & (predicted.target == act.ground_truth)])\n",
    "        falseNegative.append(predicted.loc[(predicted.timestamp > minTime) | (predicted.timestamp < maxTime) & (predicted.is_outlier == 0) & (predicted.target == act.ground_truth)])\n",
    "\n",
    "        del maxTime, minTime\n",
    "    \n",
    "     else: #remove all empty row\n",
    "          truePositive = list(filter(lambda dfTP: not dfTP.empty, truePositive))\n",
    "          trueNegative = list(filter(lambda dfTN: not dfTN.empty, trueNegative))\n",
    "          falsePositive = list(filter(lambda dfFP: not dfFP.empty, falsePositive))\n",
    "          falseNegative = list(filter(lambda dfFN: not dfFN.empty, falseNegative))\n",
    "\n",
    "\n",
    "     count = 0\n",
    "     for i, *trueP in truePositive:\n",
    "          count = count + trueP.size\n",
    "     print(\"True Positive: \", count)\n",
    "     \n",
    "     count = 0\n",
    "     for i, *trueN in trueNegative:\n",
    "          count = count + trueN.size\n",
    "     print(\"True Negative: \", count)\n",
    "     \n",
    "     count = 0\n",
    "     for i, *falseP in falsePositive:\n",
    "          count = count + len(falseP)\n",
    "     print(\"False Positive: \", count)\n",
    "     \n",
    "     count = 0\n",
    "     for i, *falseN in falseNegative:\n",
    "          count = count + len(falseN)\n",
    "     print(\"False Negative: \", count)\n",
    "     \n",
    "     \n",
    "     return "
   ]
  },
  {
   "cell_type": "code",
   "execution_count": null,
   "metadata": {},
   "outputs": [],
   "source": [
    "#xx, yy = np.meshgrid(np.linspace(-10, 10, 200), np.linspace(-10, 10, 401244))\n",
    "#plt.figure(figsize=(10, 10))\n",
    "\n",
    "for i, (clf_name, clf) in enumerate(classifiers.items()):\n",
    "\n",
    "    clf.fit(X)\n",
    "    y_pred = clf.predict(X)\n",
    "    #scores_pred = clf.decision_function(X) * -1\n",
    "\n",
    "    np.unique(y_pred, return_counts=True)\n",
    "\n",
    "    n_outliers = np.count_nonzero(y_pred)\n",
    "    n_inliers = len(y_pred) - n_outliers\n",
    "\n",
    "    print('\\n\\nOUTLIERS: ', n_outliers, 'INLIERS: ', n_inliers, clf_name)\n",
    "\n",
    "    predictedDF = df.assign(is_outlier=y_pred)\n",
    "\n",
    "    #outliersDF = predictedDF.loc[lambda x: x.is_outlier == 1, :]\n",
    "    #inliersDF = predictedDF.loc[lambda x: x.is_outlier == 0, :]\n",
    "\n",
    "    #plt.scatter(inliersDF.timestamp, inliersDF.latency, color=\"green\", label=\"Inliers\", alpha= 0.3)\n",
    "    #plt.scatter(outliersDF.timestamp, outliersDF.latency, color=\"red\", label=\"Outliers\", alpha= 0.3)\n",
    "    #plt.xlabel(\"Time\")\n",
    "    #plt.ylabel(\"Latency\")\n",
    "    #plt.legend()\n",
    "    #plt.show()\n",
    "\n",
    "    getConfusionMatrix(faultsDataFrame, predictedDF)\n",
    "\n"
   ]
  }
 ],
 "metadata": {
  "kernelspec": {
   "display_name": "Python 3",
   "language": "python",
   "name": "python3"
  },
  "language_info": {
   "codemirror_mode": {
    "name": "ipython",
    "version": 3
   },
   "file_extension": ".py",
   "mimetype": "text/x-python",
   "name": "python",
   "nbconvert_exporter": "python",
   "pygments_lexer": "ipython3",
   "version": "3.10.5"
  },
  "orig_nbformat": 4,
  "vscode": {
   "interpreter": {
    "hash": "26de051ba29f2982a8de78e945f0abaf191376122a1563185a90213a26c5da77"
   }
  }
 },
 "nbformat": 4,
 "nbformat_minor": 2
}
