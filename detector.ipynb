{
 "cells": [
  {
   "cell_type": "code",
   "execution_count": 1,
   "metadata": {},
   "outputs": [],
   "source": [
    "from sklearn import preprocessing\n",
    "from sklearn.preprocessing import LabelEncoder\n",
    "from sklearn import metrics\n",
    "import pandas as pd\n",
    "from datetime import datetime, timedelta, timezone\n",
    "import time\n",
    "import numpy as np\n",
    "from scipy import stats\n",
    "import matplotlib.pyplot as plt\n",
    "import matplotlib.font_manager\n",
    "import seaborn as sns"
   ]
  },
  {
   "cell_type": "code",
   "execution_count": 2,
   "metadata": {},
   "outputs": [],
   "source": [
    "# Import models\n",
    "from pyod.models.abod import ABOD\n",
    "from pyod.models.knn import KNN\n",
    "from pyod.models.hbos import HBOS\n",
    "from pyod.models.iforest import IForest\n",
    "from pyod.models.feature_bagging import FeatureBagging"
   ]
  },
  {
   "cell_type": "code",
   "execution_count": 3,
   "metadata": {},
   "outputs": [],
   "source": [
    "# reading the dataset\n",
    "df = pd.read_csv(\"public/data_source/rca_2020_04_22.csv\")\n",
    "actualDataframe = pd.read_csv(\"public/data_source/ret_info.csv\")"
   ]
  },
  {
   "cell_type": "code",
   "execution_count": 4,
   "metadata": {},
   "outputs": [],
   "source": [
    "def generateActual(actualDF):\n",
    "    nwe_actdf = actualDF.assign(timestamp = list(map( lambda x: datetime.timestamp(datetime.strptime(x,'%Y-%m-%d %H:%M:%S+08:00')), actualDF['time_preliminary'] )))\n",
    "    return nwe_actdf"
   ]
  },
  {
   "cell_type": "code",
   "execution_count": null,
   "metadata": {},
   "outputs": [],
   "source": [
    "def getMetricsConfusionMatrix(actual, predicted):\n",
    "    confusion_matrix = metrics.confusion_matrix(actual, predicted)\n",
    "    cm_display = metrics.ConfusionMatrixDisplay(confusion_matrix = confusion_matrix, display_labels = [False, True])\n",
    "    cm_display.plot()\n",
    "    plt.show()\n",
    "    del confusion_matrix, cm_display    "
   ]
  },
  {
   "cell_type": "code",
   "execution_count": 5,
   "metadata": {},
   "outputs": [],
   "source": [
    "le = preprocessing.LabelEncoder()\n",
    "le.fit(df['source'])\n",
    "LabelEncoder()\n",
    "list(le.classes_)\n",
    "sourceTransformed = le.transform(df['source'])"
   ]
  },
  {
   "cell_type": "code",
   "execution_count": 6,
   "metadata": {},
   "outputs": [],
   "source": [
    "X1 = df['latency'].values.reshape(-1,1)\n",
    "X2 = sourceTransformed.reshape(-1,1)\n",
    "\n",
    "X = np.concatenate((X1,X2), axis=1)"
   ]
  },
  {
   "cell_type": "code",
   "execution_count": 7,
   "metadata": {},
   "outputs": [],
   "source": [
    "outliers_fraction = 0.1\n",
    "# Test 4 different methods              datetimA = 2020-04-20 23:17:00\n",
    "classifiers = {\n",
    "        'FeatureBagging': FeatureBagging(contamination=outliers_fraction),\n",
    "        'KNN': KNN(contamination=outliers_fraction),\n",
    "        'HBOS': HBOS(contamination=outliers_fraction),\n",
    "        'IForest': IForest(contamination=outliers_fraction)\n",
    "}"
   ]
  },
  {
   "cell_type": "code",
   "execution_count": 14,
   "metadata": {},
   "outputs": [],
   "source": [
    "def getConfusionMatrix(actual, predicted):\n",
    "    \n",
    "    truePositive = []\n",
    "    trueNegative = []\n",
    "    falsePositive = []\n",
    "    falseNegative = []\n",
    "    predicted = predicted.assign(date_time = list(map( lambda x: datetime.fromtimestamp(x/1000), predicted['timestamp'] )))\n",
    "    \n",
    "    for i, act in actual.iterrows():\n",
    "        \n",
    "        minTime = datetime.strptime(act.time_preliminary,'%Y-%m-%d %H:%M:%S+08:00')\n",
    "        maxTime = minTime + timedelta(minutes=5)\n",
    "\n",
    "        prdtrue = predicted.loc[(predicted.date_time > minTime) & (predicted.date_time < maxTime) & (predicted.outliers == 1)]\n",
    "        if not prdtrue.empty:\n",
    "            truePositive.append(prdtrue)\n",
    "        else:\n",
    "            trueNegative.append(act)\n",
    "\n",
    "        prdfalse = predicted.loc[(predicted.date_time > minTime) & (predicted.date_time < maxTime) & (predicted.outliers == 0)]\n",
    "        if not prdfalse.empty:\n",
    "            falseNegative.append(prdfalse)\n",
    "        else:\n",
    "            falsePositive.append(act)\n",
    "        \n",
    "        del prdtrue, prdfalse, maxTime, minTime\n",
    "    \n",
    "\n",
    "    return"
   ]
  },
  {
   "cell_type": "code",
   "execution_count": 15,
   "metadata": {},
   "outputs": [
    {
     "name": "stdout",
     "output_type": "stream",
     "text": [
      "\n",
      "\n",
      "OUTLIERS :  292 INLIERS :  2708 FeatureBagging\n",
      "                trace_id      timestamp  latency  succ      source      target\n",
      "3   5b93517183b7e8235950  1587484800099       46  True  docker_001  docker_008\n",
      "14  5b93517183b7e8235950  1587484800265        7  True  docker_007  docker_007\n",
      "21  5b93517183b7e8235950  1587484800347        8  True  docker_008  docker_008\n",
      "42  5b93517183b7e8235950  1587484800443        3  True  docker_001  docker_001\n",
      "55  5b93517183b7e8235950  1587484800070     2472  True      os_022  docker_001\n",
      "\n",
      "\n",
      "OUTLIERS :  165 INLIERS :  2835 KNN\n",
      "                trace_id      timestamp  latency  succ      source      target\n",
      "3   5b93517183b7e8235950  1587484800099       46  True  docker_001  docker_008\n",
      "21  5b93517183b7e8235950  1587484800347        8  True  docker_008  docker_008\n",
      "22  5b93517183b7e8235950  1587484800341       58  True  docker_001  docker_008\n",
      "40  5b93517183b7e8235950  1587484800382       61  True  docker_001  docker_001\n",
      "53  5b93517183b7e8235950  1587484800462       77  True  docker_001  docker_001\n",
      "\n",
      "\n",
      "OUTLIERS :  0 INLIERS :  3000 HBOS\n",
      "Empty DataFrame\n",
      "Columns: [trace_id, timestamp, latency, succ, source, target]\n",
      "Index: []\n",
      "\n",
      "\n",
      "OUTLIERS :  300 INLIERS :  2700 IForest\n",
      "                trace_id      timestamp  latency  succ      source      target\n",
      "3   5b93517183b7e8235950  1587484800099       46  True  docker_001  docker_008\n",
      "10  5b93517183b7e8235950  1587484800146       21  True  docker_001  docker_008\n",
      "17  5b93517183b7e8235950  1587484800255       27  True  docker_001  docker_007\n",
      "21  5b93517183b7e8235950  1587484800347        8  True  docker_008  docker_008\n",
      "22  5b93517183b7e8235950  1587484800341       58  True  docker_001  docker_008\n"
     ]
    },
    {
     "data": {
      "text/plain": [
       "<Figure size 720x720 with 0 Axes>"
      ]
     },
     "metadata": {},
     "output_type": "display_data"
    }
   ],
   "source": [
    "xx, yy = np.meshgrid(np.linspace(-10, 10, 200), np.linspace(-10, 10, 200))\n",
    "plt.figure(figsize=(10, 10))\n",
    "\n",
    "for i, (clf_name, clf) in enumerate(classifiers.items()):\n",
    "    clf.fit(X)\n",
    "    # predict raw anomaly score\n",
    "    scores_pred = clf.decision_function(X) * -1\n",
    "\n",
    "    # prediction of a datapoint category outlier or inlier\n",
    "    y_pred = clf.predict(X)\n",
    "\n",
    "    np.unique(y_pred, return_counts=True)\n",
    "\n",
    "    n_inliers = len(y_pred) - np.count_nonzero(y_pred)\n",
    "    n_outliers = np.count_nonzero(y_pred == 1)\n",
    "\n",
    "    print('\\n\\nOUTLIERS : ', n_outliers, 'INLIERS : ', n_inliers, clf_name)\n",
    "\n",
    "    outliers = []\n",
    "    for index in range(len(y_pred)):        \n",
    "        if y_pred[index] == 1:\n",
    "            outliers.append(index)\n",
    "\n",
    "    outliersList = df.iloc[outliers, :]\n",
    "    print(outliersList.head(5))\n",
    "    #print(y_pred)\n",
    "    \n",
    "    #actual = np.random.binomial(1,.9,size = y_pred.size)\n",
    "    actual = generateActual(actualDataframe)\n",
    "    predicted = df.assign(outliers = y_pred)\n",
    "    getConfusionMatrix(actual, predicted)\n",
    "\n",
    "    #pd.DataFrame(outliersList).to_csv(\"public/results/\"+clf_name+\"_preresult.csv\")\n",
    "\n",
    "    #pd.DataFrame(actual).to_csv(\"public/results/\"+clf_name+\"_actual.csv\")\n",
    "    #pd.DataFrame(predicted).to_csv(\"public/results/\"+clf_name+\"_predicted.csv\")\n",
    "\n",
    "    # threshold value to consider a datapoint inlier or outlier - the probability that the prediction is true\n",
    "#    threshold = stats.scoreatpercentile(scores_pred, 100 * outliers_fraction)\n",
    "\n",
    "    # decision function calculates the raw anomaly score for every point\n",
    "#    Z = clf.decision_function(np.c_[xx.ravel(), yy.ravel()]) * -1\n",
    "#    Z = Z.reshape(xx.shape)\n",
    "\n",
    "    # plot outliers and contour\n",
    "#    subplot = plt .subplot(2, 2, i + 1)\n",
    "#    subplot.contour(xx, yy, Z, levels=np.linspace(Z.min(), threshold, 15))\n",
    "#    subplot.contour(xx, yy, Z, levels=[threshold], linewidths=2, colors='red')\n",
    "\n",
    "    # fill orange contour lines where range of anomaly score is from threshold to maximum anomaly score\n",
    "#    subplot.contour(xx, yy, Z, levels=[threshold, Z.max()], colors='blue')\n",
    "\n",
    "    # scatter plot of inliers with white dots\n",
    "#    subplot.scatter(X[:-n_outliers, 0], X[:-n_outliers, 1],c='white', s=12, edgecolor='g')\n",
    "    # scatter plot of outliers with black dots\n",
    "#    subplot.scatter(X[:-n_outliers, 0], X[:-n_outliers, 1],c='black', s=12, edgecolor='g')\n",
    "#    subplot.axis('tight')\n",
    "\n",
    "#    subplot.set_title(clf_name)\n",
    "#    subplot.set_xlim((-15, 15))\n",
    "#    subplot.set_ylim((-15, 15))\n",
    "\n",
    "#plt.show()\n",
    "\n"
   ]
  }
 ],
 "metadata": {
  "kernelspec": {
   "display_name": "Python 3.10.5 64-bit",
   "language": "python",
   "name": "python3"
  },
  "language_info": {
   "codemirror_mode": {
    "name": "ipython",
    "version": 3
   },
   "file_extension": ".py",
   "mimetype": "text/x-python",
   "name": "python",
   "nbconvert_exporter": "python",
   "pygments_lexer": "ipython3",
   "version": "3.10.5"
  },
  "orig_nbformat": 4,
  "vscode": {
   "interpreter": {
    "hash": "26de051ba29f2982a8de78e945f0abaf191376122a1563185a90213a26c5da77"
   }
  }
 },
 "nbformat": 4,
 "nbformat_minor": 2
}
