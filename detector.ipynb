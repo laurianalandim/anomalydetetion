{
 "cells": [
  {
   "cell_type": "code",
   "execution_count": null,
   "metadata": {},
   "outputs": [],
   "source": [
    "from sklearn import preprocessing\n",
    "import pandas as pd\n",
    "from datetime import datetime, timedelta\n",
    "import numpy as np\n",
    "import matplotlib.pyplot as plt"
   ]
  },
  {
   "cell_type": "code",
   "execution_count": null,
   "metadata": {},
   "outputs": [],
   "source": [
    "# Import models\n",
    "from pyod.models.abod import ABOD\n",
    "from pyod.models.knn import KNN\n",
    "from pyod.models.hbos import HBOS\n",
    "from pyod.models.iforest import IForest"
   ]
  },
  {
   "cell_type": "markdown",
   "metadata": {},
   "source": [
    "## Loading and Reviewing the Data"
   ]
  },
  {
   "cell_type": "code",
   "execution_count": null,
   "metadata": {},
   "outputs": [],
   "source": [
    "# reading the dataset\n",
    "df = pd.read_csv(\"public/data_source/rca_dataset.csv\")\n",
    "faultsDataFrame = pd.read_csv(\"public/data_source/ret_info.csv\")"
   ]
  },
  {
   "cell_type": "code",
   "execution_count": 4,
   "metadata": {},
   "outputs": [
    {
     "data": {
      "text/html": [
       "<div>\n",
       "<style scoped>\n",
       "    .dataframe tbody tr th:only-of-type {\n",
       "        vertical-align: middle;\n",
       "    }\n",
       "\n",
       "    .dataframe tbody tr th {\n",
       "        vertical-align: top;\n",
       "    }\n",
       "\n",
       "    .dataframe thead th {\n",
       "        text-align: right;\n",
       "    }\n",
       "</style>\n",
       "<table border=\"1\" class=\"dataframe\">\n",
       "  <thead>\n",
       "    <tr style=\"text-align: right;\">\n",
       "      <th></th>\n",
       "      <th>trace_id</th>\n",
       "      <th>timestamp</th>\n",
       "      <th>latency</th>\n",
       "      <th>succ</th>\n",
       "      <th>source</th>\n",
       "      <th>target</th>\n",
       "    </tr>\n",
       "  </thead>\n",
       "  <tbody>\n",
       "    <tr>\n",
       "      <th>0</th>\n",
       "      <td>2798717183c0df0e9932</td>\n",
       "      <td>1587490000000</td>\n",
       "      <td>0</td>\n",
       "      <td>False</td>\n",
       "      <td>os_021</td>\n",
       "      <td>os_021</td>\n",
       "    </tr>\n",
       "    <tr>\n",
       "      <th>1</th>\n",
       "      <td>2798717183c0df0e9932</td>\n",
       "      <td>1587490000000</td>\n",
       "      <td>101</td>\n",
       "      <td>False</td>\n",
       "      <td>None</td>\n",
       "      <td>os_021</td>\n",
       "    </tr>\n",
       "    <tr>\n",
       "      <th>2</th>\n",
       "      <td>0af4f17183c0f7fd6282</td>\n",
       "      <td>1587490000000</td>\n",
       "      <td>0</td>\n",
       "      <td>False</td>\n",
       "      <td>os_021</td>\n",
       "      <td>os_021</td>\n",
       "    </tr>\n",
       "    <tr>\n",
       "      <th>3</th>\n",
       "      <td>0af4f17183c0f7fd6282</td>\n",
       "      <td>1587490000000</td>\n",
       "      <td>11</td>\n",
       "      <td>False</td>\n",
       "      <td>None</td>\n",
       "      <td>os_021</td>\n",
       "    </tr>\n",
       "    <tr>\n",
       "      <th>4</th>\n",
       "      <td>f0f9617183c0fa9f6112</td>\n",
       "      <td>1587490000000</td>\n",
       "      <td>0</td>\n",
       "      <td>False</td>\n",
       "      <td>os_021</td>\n",
       "      <td>os_021</td>\n",
       "    </tr>\n",
       "  </tbody>\n",
       "</table>\n",
       "</div>"
      ],
      "text/plain": [
       "               trace_id      timestamp  latency   succ  source  target\n",
       "0  2798717183c0df0e9932  1587490000000        0  False  os_021  os_021\n",
       "1  2798717183c0df0e9932  1587490000000      101  False    None  os_021\n",
       "2  0af4f17183c0f7fd6282  1587490000000        0  False  os_021  os_021\n",
       "3  0af4f17183c0f7fd6282  1587490000000       11  False    None  os_021\n",
       "4  f0f9617183c0fa9f6112  1587490000000        0  False  os_021  os_021"
      ]
     },
     "execution_count": 4,
     "metadata": {},
     "output_type": "execute_result"
    }
   ],
   "source": [
    "df.head(5)"
   ]
  },
  {
   "cell_type": "markdown",
   "metadata": {},
   "source": [
    "##### Change \"succ\" from boolean to integer, True=1, False=0"
   ]
  },
  {
   "cell_type": "code",
   "execution_count": null,
   "metadata": {},
   "outputs": [],
   "source": [
    "succ_map = {True : 1, False : 0}\n",
    "df['succ'] = df['succ'].map(succ_map)\n",
    "\n",
    "df['timestamp'] = df['timestamp'].apply(lambda d: datetime.fromtimestamp(int(d) / 1000))"
   ]
  },
  {
   "attachments": {},
   "cell_type": "markdown",
   "metadata": {},
   "source": [
    "##### Converting \"target\" to Int and Concatenate features that will be used"
   ]
  },
  {
   "cell_type": "code",
   "execution_count": null,
   "metadata": {},
   "outputs": [],
   "source": [
    "le = preprocessing.LabelEncoder()\n",
    "le.fit(df['target'])\n",
    "targetTransformed = le.transform(df['target'])\n",
    "\n",
    "X1 = df['latency'].values.reshape(-1,1)\n",
    "X2 = targetTransformed.reshape(-1,1)\n",
    "\n",
    "X = np.concatenate((X1,X2), axis=1)"
   ]
  },
  {
   "cell_type": "markdown",
   "metadata": {},
   "source": [
    "#### Algorithms"
   ]
  },
  {
   "cell_type": "code",
   "execution_count": null,
   "metadata": {},
   "outputs": [],
   "source": [
    "outliers_fraction = 0.2\n",
    "# Test 4 different methods\n",
    "classifiers = {\n",
    "        #'FeatureBagging': FeatureBagging(contamination=outliers_fraction),\n",
    "        'KNN': KNN(contamination=outliers_fraction)\n",
    "        #'HBOS': HBOS(contamination=outliers_fraction),\n",
    "        #'IForest': IForest(contamination=outliers_fraction)\n",
    "}"
   ]
  },
  {
   "cell_type": "code",
   "execution_count": null,
   "metadata": {},
   "outputs": [
    {
     "data": {
      "text/plain": [
       "' \\n        count = 0\\n        for i, *trueP in truePositive:\\n             count = count + len(trueP)\\n        print(\"True Positive: \", count)\\n\\n        count = 0\\n        for i, *trueN in trueNegative:\\n             count = count + len(trueN)\\n        print(\"True Negative: \", count)\\n\\n        count = 0\\n        for i, *falseP in falsePositive:\\n             count = count + len(falseP)\\n        print(\"False Positive: \", count)\\n\\n        count = 0\\n        for i, *falseN in falseNegative:\\n             count = count + len(falseN)\\n        print(\"False Negative: \", count)  '"
      ]
     },
     "execution_count": 12,
     "metadata": {},
     "output_type": "execute_result"
    }
   ],
   "source": [
    "def getConfusionMatrix(faults, predicted):\n",
    "\n",
    "     truePositive = []\n",
    "     trueNegative = []\n",
    "     falsePositive = []\n",
    "     falseNegative = []\n",
    "     \n",
    "     #predicted = predicted.timestamp.apply(lambda dt: datetime.strftime(dt.timestamp))\n",
    "\n",
    "     for i, act in faults.iterrows():\n",
    "        minTime = datetime.strptime(act.time_preliminary,'%Y-%m-%d %H:%M:%S+08:00')\n",
    "        maxTime = minTime + timedelta(minutes=5)\n",
    "\n",
    "        truePositive.append(predicted.loc[(predicted.timestamp > minTime) & (predicted.timestamp < maxTime) & (predicted.is_outlier == 1) & (predicted.target == act.ground_truth)])\n",
    "        trueNegative.append(predicted.loc[(predicted.timestamp < minTime) | (predicted.timestamp > maxTime) & (predicted.is_outlier == 0) & (predicted.target == act.ground_truth)])\n",
    "        falsePositive.append(predicted.loc[(predicted.timestamp > minTime) & (predicted.timestamp < maxTime) & (predicted.is_outlier == 1) & (predicted.target == act.ground_truth)])\n",
    "        falseNegative.append(predicted.loc[(predicted.timestamp > minTime) | (predicted.timestamp < maxTime) & (predicted.is_outlier == 0) & (predicted.target == act.ground_truth)])\n",
    "\n",
    "        del maxTime, minTime\n",
    "    \n",
    "     else: #remove all empty row\n",
    "          truePositive = list(filter(lambda dfTP: not dfTP.empty, truePositive))\n",
    "          trueNegative = list(filter(lambda dfTN: not dfTN.empty, trueNegative))\n",
    "          falsePositive = list(filter(lambda dfFP: not dfFP.empty, falsePositive))\n",
    "          falseNegative = list(filter(lambda dfFN: not dfFN.empty, falseNegative))\n",
    "\n",
    "\n",
    "     count = 0\n",
    "     for i, *trueP in truePositive:\n",
    "          count = count + trueP.size\n",
    "     print(\"True Positive: \", count)\n",
    "     \n",
    "     count = 0\n",
    "     for i, *trueN in trueNegative:\n",
    "          count = count + trueN.size\n",
    "     print(\"True Negative: \", count)\n",
    "     \n",
    "     count = 0\n",
    "     for i, *falseP in falsePositive:\n",
    "          count = count + len(falseP)\n",
    "     print(\"False Positive: \", count)\n",
    "     \n",
    "     count = 0\n",
    "     for i, *falseN in falseNegative:\n",
    "          count = count + len(falseN)\n",
    "     print(\"False Negative: \", count)\n",
    "     \n",
    "     \n",
    "     return "
   ]
  },
  {
   "cell_type": "code",
   "execution_count": null,
   "metadata": {},
   "outputs": [
    {
     "name": "stdout",
     "output_type": "stream",
     "text": [
      "\n",
      "\n",
      "OUTLIERS :  2764 INLIERS :  398480 KNN\n",
      "                 trace_id           timestamp  latency  succ      source  \\\n",
      "15   9786617183c1125e6128 2020-04-21 17:26:40      904     0        None   \n",
      "17   81a9517183c1184d1386 2020-04-21 17:26:40      157     0        None   \n",
      "20   bc31617183c11c516136 2020-04-21 17:26:40    30002     0      os_021   \n",
      "269  54c6517183dce4579270 2020-04-21 17:26:40      103     0  docker_008   \n",
      "285  f53c617183dce5ca7836 2020-04-21 17:26:40       97     0  docker_006   \n",
      "\n",
      "         target  \n",
      "15       os_021  \n",
      "17       os_021  \n",
      "20       os_021  \n",
      "269  docker_008  \n",
      "285  docker_006  \n",
      "True Positive:  0\n",
      "True Negative:  33\n",
      "False Positive:  0\n",
      "False Negative:  0\n"
     ]
    },
    {
     "data": {
      "text/plain": [
       "<Figure size 1000x1000 with 0 Axes>"
      ]
     },
     "metadata": {},
     "output_type": "display_data"
    }
   ],
   "source": [
    "xx, yy = np.meshgrid(np.linspace(-10, 10, 200), np.linspace(-10, 10, 200))\n",
    "plt.figure(figsize=(10, 10))\n",
    "\n",
    "for i, (clf_name, clf) in enumerate(classifiers.items()):\n",
    "\n",
    "    clf.fit(X)\n",
    "    y_pred = clf.predict(X)\n",
    "\n",
    "    #  Predict if a particular sample is an outlier or not\n",
    "    scores_pred = clf.decision_function(X) * -1\n",
    "\n",
    "    np.unique(y_pred, return_counts=True)\n",
    "\n",
    "    n_outliers = np.count_nonzero(y_pred)\n",
    "    n_inliers = len(y_pred) - n_outliers\n",
    "\n",
    "    print('\\n\\nOUTLIERS: ', n_outliers, 'INLIERS: ', n_inliers, clf_name)\n",
    "\n",
    "    predictedDF = df.assign(is_outlier=y_pred)\n",
    "\n",
    "    #outliersDF = predictedDF.loc[lambda x: x.is_outlier == 1, :]\n",
    "    #inliersDF = predictedDF.loc[lambda x: x.is_outlier == 0, :]\n",
    "\n",
    "    #plt.scatter(inliersDF.timestamp, inliersDF.latency, color=\"green\", label=\"Inliers\", alpha= 0.3)\n",
    "    #plt.scatter(outliersDF.timestamp, outliersDF.latency, color=\"red\", label=\"Outliers\", alpha= 0.3)\n",
    "    #plt.xlabel(\"Time\")\n",
    "    #plt.ylabel(\"Latency\")\n",
    "    #plt.legend()\n",
    "    #plt.show()\n",
    "\n",
    "    getConfusionMatrix(faultsDataFrame, predictedDF)\n",
    "\n"
   ]
  }
 ],
 "metadata": {
  "kernelspec": {
   "display_name": "Python 3.10.4 64-bit",
   "language": "python",
   "name": "python3"
  },
  "language_info": {
   "codemirror_mode": {
    "name": "ipython",
    "version": 3
   },
   "file_extension": ".py",
   "mimetype": "text/x-python",
   "name": "python",
   "nbconvert_exporter": "python",
   "pygments_lexer": "ipython3",
   "version": "3.10.6"
  },
  "orig_nbformat": 4,
  "vscode": {
   "interpreter": {
    "hash": "916dbcbb3f70747c44a77c7bcd40155683ae19c65e1c03b4aa3499c5328201f1"
   }
  }
 },
 "nbformat": 4,
 "nbformat_minor": 2
}
