{
 "cells": [
  {
   "cell_type": "code",
   "execution_count": 1,
   "metadata": {},
   "outputs": [],
   "source": [
    "from sklearn import preprocessing\n",
    "from sklearn.preprocessing import LabelEncoder\n",
    "from sklearn import metrics\n",
    "import pandas as pd\n",
    "from datetime import datetime, timedelta, timezone\n",
    "import time\n",
    "import numpy as np\n",
    "from scipy import stats\n",
    "import matplotlib.pyplot as plt\n",
    "import matplotlib.font_manager\n",
    "import seaborn as sns\n",
    "from sklearn.metrics import confusion_matrix"
   ]
  },
  {
   "cell_type": "code",
   "execution_count": 2,
   "metadata": {},
   "outputs": [],
   "source": [
    "# Import models\n",
    "from pyod.models.abod import ABOD\n",
    "from pyod.models.knn import KNN\n",
    "from pyod.models.hbos import HBOS\n",
    "from pyod.models.iforest import IForest"
   ]
  },
  {
   "cell_type": "markdown",
   "metadata": {},
   "source": [
    "## Loading and Reviewing the Data"
   ]
  },
  {
   "cell_type": "code",
   "execution_count": 3,
   "metadata": {},
   "outputs": [],
   "source": [
    "# reading the dataset\n",
    "df = pd.read_csv(\"public/data_source/rca_dataset.csv\")\n",
    "faultsDataFrame = pd.read_csv(\"public/data_source/ret_info.csv\")"
   ]
  },
  {
   "cell_type": "code",
   "execution_count": 4,
   "metadata": {},
   "outputs": [
    {
     "data": {
      "text/html": [
       "<div>\n",
       "<style scoped>\n",
       "    .dataframe tbody tr th:only-of-type {\n",
       "        vertical-align: middle;\n",
       "    }\n",
       "\n",
       "    .dataframe tbody tr th {\n",
       "        vertical-align: top;\n",
       "    }\n",
       "\n",
       "    .dataframe thead th {\n",
       "        text-align: right;\n",
       "    }\n",
       "</style>\n",
       "<table border=\"1\" class=\"dataframe\">\n",
       "  <thead>\n",
       "    <tr style=\"text-align: right;\">\n",
       "      <th></th>\n",
       "      <th>trace_id</th>\n",
       "      <th>timestamp</th>\n",
       "      <th>latency</th>\n",
       "      <th>succ</th>\n",
       "      <th>source</th>\n",
       "      <th>target</th>\n",
       "    </tr>\n",
       "  </thead>\n",
       "  <tbody>\n",
       "    <tr>\n",
       "      <th>0</th>\n",
       "      <td>2798717183c0df0e9932</td>\n",
       "      <td>1587490000000</td>\n",
       "      <td>0</td>\n",
       "      <td>False</td>\n",
       "      <td>os_021</td>\n",
       "      <td>os_021</td>\n",
       "    </tr>\n",
       "    <tr>\n",
       "      <th>1</th>\n",
       "      <td>2798717183c0df0e9932</td>\n",
       "      <td>1587490000000</td>\n",
       "      <td>101</td>\n",
       "      <td>False</td>\n",
       "      <td>None</td>\n",
       "      <td>os_021</td>\n",
       "    </tr>\n",
       "    <tr>\n",
       "      <th>2</th>\n",
       "      <td>0af4f17183c0f7fd6282</td>\n",
       "      <td>1587490000000</td>\n",
       "      <td>0</td>\n",
       "      <td>False</td>\n",
       "      <td>os_021</td>\n",
       "      <td>os_021</td>\n",
       "    </tr>\n",
       "    <tr>\n",
       "      <th>3</th>\n",
       "      <td>0af4f17183c0f7fd6282</td>\n",
       "      <td>1587490000000</td>\n",
       "      <td>11</td>\n",
       "      <td>False</td>\n",
       "      <td>None</td>\n",
       "      <td>os_021</td>\n",
       "    </tr>\n",
       "    <tr>\n",
       "      <th>4</th>\n",
       "      <td>f0f9617183c0fa9f6112</td>\n",
       "      <td>1587490000000</td>\n",
       "      <td>0</td>\n",
       "      <td>False</td>\n",
       "      <td>os_021</td>\n",
       "      <td>os_021</td>\n",
       "    </tr>\n",
       "  </tbody>\n",
       "</table>\n",
       "</div>"
      ],
      "text/plain": [
       "               trace_id      timestamp  latency   succ  source  target\n",
       "0  2798717183c0df0e9932  1587490000000        0  False  os_021  os_021\n",
       "1  2798717183c0df0e9932  1587490000000      101  False    None  os_021\n",
       "2  0af4f17183c0f7fd6282  1587490000000        0  False  os_021  os_021\n",
       "3  0af4f17183c0f7fd6282  1587490000000       11  False    None  os_021\n",
       "4  f0f9617183c0fa9f6112  1587490000000        0  False  os_021  os_021"
      ]
     },
     "execution_count": 4,
     "metadata": {},
     "output_type": "execute_result"
    }
   ],
   "source": [
    "df.head(5)"
   ]
  },
  {
   "cell_type": "markdown",
   "metadata": {},
   "source": [
    "##### Change \"succ\" from boolean to integer, True=1, False=0"
   ]
  },
  {
   "cell_type": "code",
   "execution_count": 5,
   "metadata": {},
   "outputs": [],
   "source": [
    "succ_map = {True : 1, False : 0}\n",
    "df['succ'] = df['succ'].map(succ_map)"
   ]
  },
  {
   "cell_type": "markdown",
   "metadata": {},
   "source": [
    "##### Converting \"timestamp\" do datetime"
   ]
  },
  {
   "cell_type": "code",
   "execution_count": 6,
   "metadata": {},
   "outputs": [],
   "source": [
    "import datetime\n",
    "\n",
    "df['timestamp'] = df['timestamp'].apply(lambda d: datetime.datetime.fromtimestamp(int(d) / 1000))\n",
    "timestamp_ = df['timestamp']\n",
    "#.strftime('%Y-%m-%d %H:%M:%S'))\n"
   ]
  },
  {
   "cell_type": "code",
   "execution_count": 7,
   "metadata": {},
   "outputs": [
    {
     "data": {
      "text/html": [
       "<div>\n",
       "<style scoped>\n",
       "    .dataframe tbody tr th:only-of-type {\n",
       "        vertical-align: middle;\n",
       "    }\n",
       "\n",
       "    .dataframe tbody tr th {\n",
       "        vertical-align: top;\n",
       "    }\n",
       "\n",
       "    .dataframe thead th {\n",
       "        text-align: right;\n",
       "    }\n",
       "</style>\n",
       "<table border=\"1\" class=\"dataframe\">\n",
       "  <thead>\n",
       "    <tr style=\"text-align: right;\">\n",
       "      <th></th>\n",
       "      <th>trace_id</th>\n",
       "      <th>timestamp</th>\n",
       "      <th>latency</th>\n",
       "      <th>succ</th>\n",
       "      <th>source</th>\n",
       "      <th>target</th>\n",
       "    </tr>\n",
       "  </thead>\n",
       "  <tbody>\n",
       "    <tr>\n",
       "      <th>0</th>\n",
       "      <td>2798717183c0df0e9932</td>\n",
       "      <td>2020-04-21 17:26:40</td>\n",
       "      <td>0</td>\n",
       "      <td>0</td>\n",
       "      <td>os_021</td>\n",
       "      <td>os_021</td>\n",
       "    </tr>\n",
       "    <tr>\n",
       "      <th>1</th>\n",
       "      <td>2798717183c0df0e9932</td>\n",
       "      <td>2020-04-21 17:26:40</td>\n",
       "      <td>101</td>\n",
       "      <td>0</td>\n",
       "      <td>None</td>\n",
       "      <td>os_021</td>\n",
       "    </tr>\n",
       "    <tr>\n",
       "      <th>2</th>\n",
       "      <td>0af4f17183c0f7fd6282</td>\n",
       "      <td>2020-04-21 17:26:40</td>\n",
       "      <td>0</td>\n",
       "      <td>0</td>\n",
       "      <td>os_021</td>\n",
       "      <td>os_021</td>\n",
       "    </tr>\n",
       "    <tr>\n",
       "      <th>3</th>\n",
       "      <td>0af4f17183c0f7fd6282</td>\n",
       "      <td>2020-04-21 17:26:40</td>\n",
       "      <td>11</td>\n",
       "      <td>0</td>\n",
       "      <td>None</td>\n",
       "      <td>os_021</td>\n",
       "    </tr>\n",
       "    <tr>\n",
       "      <th>4</th>\n",
       "      <td>f0f9617183c0fa9f6112</td>\n",
       "      <td>2020-04-21 17:26:40</td>\n",
       "      <td>0</td>\n",
       "      <td>0</td>\n",
       "      <td>os_021</td>\n",
       "      <td>os_021</td>\n",
       "    </tr>\n",
       "  </tbody>\n",
       "</table>\n",
       "</div>"
      ],
      "text/plain": [
       "               trace_id           timestamp  latency  succ  source  target\n",
       "0  2798717183c0df0e9932 2020-04-21 17:26:40        0     0  os_021  os_021\n",
       "1  2798717183c0df0e9932 2020-04-21 17:26:40      101     0    None  os_021\n",
       "2  0af4f17183c0f7fd6282 2020-04-21 17:26:40        0     0  os_021  os_021\n",
       "3  0af4f17183c0f7fd6282 2020-04-21 17:26:40       11     0    None  os_021\n",
       "4  f0f9617183c0fa9f6112 2020-04-21 17:26:40        0     0  os_021  os_021"
      ]
     },
     "execution_count": 7,
     "metadata": {},
     "output_type": "execute_result"
    }
   ],
   "source": [
    "df.head(5)"
   ]
  },
  {
   "cell_type": "code",
   "execution_count": 8,
   "metadata": {},
   "outputs": [
    {
     "data": {
      "text/html": [
       "<div>\n",
       "<style scoped>\n",
       "    .dataframe tbody tr th:only-of-type {\n",
       "        vertical-align: middle;\n",
       "    }\n",
       "\n",
       "    .dataframe tbody tr th {\n",
       "        vertical-align: top;\n",
       "    }\n",
       "\n",
       "    .dataframe thead th {\n",
       "        text-align: right;\n",
       "    }\n",
       "</style>\n",
       "<table border=\"1\" class=\"dataframe\">\n",
       "  <thead>\n",
       "    <tr style=\"text-align: right;\">\n",
       "      <th></th>\n",
       "      <th>trace_id</th>\n",
       "      <th>timestamp</th>\n",
       "      <th>latency</th>\n",
       "      <th>succ</th>\n",
       "      <th>source</th>\n",
       "      <th>target</th>\n",
       "    </tr>\n",
       "  </thead>\n",
       "  <tbody>\n",
       "    <tr>\n",
       "      <th>401239</th>\n",
       "      <td>eb491171a537bf286656</td>\n",
       "      <td>2020-04-23 16:40:00</td>\n",
       "      <td>15</td>\n",
       "      <td>1</td>\n",
       "      <td>None</td>\n",
       "      <td>os_022</td>\n",
       "    </tr>\n",
       "    <tr>\n",
       "      <th>401240</th>\n",
       "      <td>26036171a537bf419306</td>\n",
       "      <td>2020-04-23 16:40:00</td>\n",
       "      <td>7</td>\n",
       "      <td>1</td>\n",
       "      <td>docker_007</td>\n",
       "      <td>db_003</td>\n",
       "    </tr>\n",
       "    <tr>\n",
       "      <th>401241</th>\n",
       "      <td>26036171a537bf419306</td>\n",
       "      <td>2020-04-23 16:40:00</td>\n",
       "      <td>7</td>\n",
       "      <td>1</td>\n",
       "      <td>docker_007</td>\n",
       "      <td>db_003</td>\n",
       "    </tr>\n",
       "    <tr>\n",
       "      <th>401242</th>\n",
       "      <td>26036171a537bf419306</td>\n",
       "      <td>2020-04-23 16:40:00</td>\n",
       "      <td>1</td>\n",
       "      <td>1</td>\n",
       "      <td>docker_007</td>\n",
       "      <td>docker_007</td>\n",
       "    </tr>\n",
       "    <tr>\n",
       "      <th>401243</th>\n",
       "      <td>26036171a537bf419306</td>\n",
       "      <td>2020-04-23 16:40:00</td>\n",
       "      <td>36</td>\n",
       "      <td>1</td>\n",
       "      <td>docker_001</td>\n",
       "      <td>docker_007</td>\n",
       "    </tr>\n",
       "  </tbody>\n",
       "</table>\n",
       "</div>"
      ],
      "text/plain": [
       "                    trace_id           timestamp  latency  succ      source  \\\n",
       "401239  eb491171a537bf286656 2020-04-23 16:40:00       15     1        None   \n",
       "401240  26036171a537bf419306 2020-04-23 16:40:00        7     1  docker_007   \n",
       "401241  26036171a537bf419306 2020-04-23 16:40:00        7     1  docker_007   \n",
       "401242  26036171a537bf419306 2020-04-23 16:40:00        1     1  docker_007   \n",
       "401243  26036171a537bf419306 2020-04-23 16:40:00       36     1  docker_001   \n",
       "\n",
       "            target  \n",
       "401239      os_022  \n",
       "401240      db_003  \n",
       "401241      db_003  \n",
       "401242  docker_007  \n",
       "401243  docker_007  "
      ]
     },
     "execution_count": 8,
     "metadata": {},
     "output_type": "execute_result"
    }
   ],
   "source": [
    "df.tail(5)"
   ]
  },
  {
   "cell_type": "markdown",
   "metadata": {},
   "source": [
    "##### COnverting \"target\" to Int"
   ]
  },
  {
   "cell_type": "code",
   "execution_count": 9,
   "metadata": {},
   "outputs": [],
   "source": [
    "le = preprocessing.LabelEncoder()\n",
    "le.fit(df['target'])\n",
    "LabelEncoder()\n",
    "list(le.classes_)\n",
    "targetTransformed = le.transform(df['target'])"
   ]
  },
  {
   "cell_type": "markdown",
   "metadata": {},
   "source": [
    "##### COncatenate features that will be used"
   ]
  },
  {
   "cell_type": "code",
   "execution_count": 10,
   "metadata": {},
   "outputs": [],
   "source": [
    "X1 = df['latency'].values.reshape(-1,1)\n",
    "X2 = targetTransformed.reshape(-1,1)\n",
    "\n",
    "X = np.concatenate((X1,X2), axis=1)"
   ]
  },
  {
   "cell_type": "markdown",
   "metadata": {},
   "source": [
    "#### Algorithms"
   ]
  },
  {
   "cell_type": "code",
   "execution_count": 11,
   "metadata": {},
   "outputs": [],
   "source": [
    "outliers_fraction = 0.1\n",
    "# Test 4 different methods\n",
    "classifiers = {\n",
    "        #'FeatureBagging': FeatureBagging(contamination=outliers_fraction),\n",
    "        'KNN': KNN(contamination=outliers_fraction)\n",
    "        #'HBOS': HBOS(contamination=outliers_fraction),\n",
    "        #'IForest': IForest(contamination=outliers_fraction)\n",
    "}"
   ]
  },
  {
   "cell_type": "code",
   "execution_count": 12,
   "metadata": {},
   "outputs": [],
   "source": [
    "def getConfusionMatrix(faults, predicted):\n",
    "    import datetime\n",
    "    \n",
    "    truePositive = []\n",
    "    trueNegative = []\n",
    "    falsePositive = []\n",
    "    falseNegative = []\n",
    "    #predicted = predicted.assign(date_time = list(map( lambda x: datetime.fromtimestamp(x/1000), predicted.timestamp)))\n",
    "    predicted = predicted.assign(date_time = lambda x: df['timestamp'])\n",
    "    #date_time = datetime.datetime.strptime(date_time,'%Y-%m-%d %H:%M:%S+08:00')\n",
    "    \n",
    "    \n",
    "    for i, act in faults.iterrows(): \n",
    "        #minTime = act.time_preliminary\n",
    "        minTime = datetime.datetime.strptime(act.time_preliminary,'%Y-%m-%d %H:%M:%S+08:00')\n",
    "        maxTime = minTime + timedelta(minutes=5)\n",
    "\n",
    "        truePositive.append(predicted.loc[(predicted.date_time >= minTime) & (predicted.date_time <= maxTime) & (predicted.outliers == 1) & (predicted.target == act.ground_truth)])\n",
    "        trueNegative.append(predicted.loc[predicted.outliers == 0])\n",
    "        falsePositive.append(predicted.loc[(predicted.date_time < minTime) | (predicted.date_time > maxTime) & (predicted.outliers == 1)])\n",
    "        falseNegative.append(predicted.loc[(predicted.date_time < minTime) | (predicted.date_time > maxTime) & (predicted.outliers == 0)])\n",
    "\n",
    "        del maxTime, minTime\n",
    "    \n",
    "    else: #remove all empty row\n",
    "        truePositive = list(filter(lambda dfTP: not dfTP.empty, truePositive))        \n",
    "        trueNegative = list(filter(lambda dfTN: not dfTN.empty, trueNegative))\n",
    "        falsePositive = list(filter(lambda dfFP: not dfFP.empty, falsePositive))\n",
    "        falseNegative = list(filter(lambda dfFN: not dfFN.empty, falseNegative))\n",
    "\n",
    "        count = 0\n",
    "        for i, *trueP in truePositive:\n",
    "             count = count + len(trueP)\n",
    "        print(\"True Positive: \", count)\n",
    "\n",
    "        count = 0\n",
    "        for i, *trueN in trueNegative:\n",
    "             count = count + len(trueN)\n",
    "        print(\"True Negative: \", count)\n",
    "\n",
    "        count = 0\n",
    "        for i, *falseP in falsePositive:\n",
    "             count = count + len(falseP)\n",
    "        print(\"False Positive: \", count)\n",
    "\n",
    "        count = 0\n",
    "        for i, *falseN in falseNegative:\n",
    "             count = count + len(falseN)\n",
    "        print(\"False Negative: \", count)\n",
    "\n",
    "    return "
   ]
  },
  {
   "cell_type": "code",
   "execution_count": 13,
   "metadata": {},
   "outputs": [
    {
     "name": "stdout",
     "output_type": "stream",
     "text": [
      "\n",
      "\n",
      "OUTLIERS :  4183 INLIERS :  397061 KNN\n",
      "                trace_id           timestamp  latency  succ  source  target\n",
      "1   2798717183c0df0e9932 2020-04-21 17:26:40      101     0    None  os_021\n",
      "11  6551417183c111e36296 2020-04-21 17:26:40      143     0    None  os_021\n",
      "15  9786617183c1125e6128 2020-04-21 17:26:40      904     0    None  os_021\n",
      "17  81a9517183c1184d1386 2020-04-21 17:26:40      157     0    None  os_021\n",
      "20  bc31617183c11c516136 2020-04-21 17:26:40    30002     0  os_021  os_021\n"
     ]
    },
    {
     "ename": "",
     "evalue": "",
     "output_type": "error",
     "traceback": [
      "\u001b[1;31mThe Kernel crashed while executing code in the the current cell or a previous cell. Please review the code in the cell(s) to identify a possible cause of the failure. Click <a href='https://aka.ms/vscodeJupyterKernelCrash'>here</a> for more info. View Jupyter <a href='command:jupyter.viewOutput'>log</a> for further details."
     ]
    },
    {
     "ename": "",
     "evalue": "",
     "output_type": "error",
     "traceback": [
      "\u001b[1;31mCanceled future for execute_request message before replies were done"
     ]
    }
   ],
   "source": [
    "xx, yy = np.meshgrid(np.linspace(-10, 10, 200), np.linspace(-10, 10, 200))\n",
    "plt.figure(figsize=(10, 10))\n",
    "\n",
    "for i, (clf_name, clf) in enumerate(classifiers.items()):\n",
    "    clf.fit(X)\n",
    "    \n",
    "    y_pred = clf.predict(X)\n",
    "    scores_pred = clf.decision_function(X) * -1\n",
    "\n",
    "    np.unique(y_pred, return_counts=True)\n",
    "\n",
    "    n_inliers = len(y_pred) - np.count_nonzero(y_pred)\n",
    "    n_outliers = np.count_nonzero(y_pred == 1)   \n",
    "\n",
    "    outliers = np.where(y_pred == 1)    \n",
    "    outliersList = df.iloc[outliers[0], :]\n",
    "\n",
    "    print('\\n\\nOUTLIERS : ', n_outliers, 'INLIERS : ', n_inliers, clf_name)\n",
    "    print(outliersList.head(5))\n",
    "    \n",
    "    predicted = df.assign(outliers = y_pred)\n",
    "    getConfusionMatrix(faultsDataFrame, predicted)\n",
    "\n"
   ]
  }
 ],
 "metadata": {
  "kernelspec": {
   "display_name": "Python 3.10.4 64-bit",
   "language": "python",
   "name": "python3"
  },
  "language_info": {
   "codemirror_mode": {
    "name": "ipython",
    "version": 3
   },
   "file_extension": ".py",
   "mimetype": "text/x-python",
   "name": "python",
   "nbconvert_exporter": "python",
   "pygments_lexer": "ipython3",
   "version": "3.10.4"
  },
  "orig_nbformat": 4,
  "vscode": {
   "interpreter": {
    "hash": "916dbcbb3f70747c44a77c7bcd40155683ae19c65e1c03b4aa3499c5328201f1"
   }
  }
 },
 "nbformat": 4,
 "nbformat_minor": 2
}
