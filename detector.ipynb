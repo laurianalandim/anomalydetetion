{
 "cells": [
  {
   "cell_type": "code",
   "execution_count": 56,
   "metadata": {},
   "outputs": [],
   "source": [
    "from sklearn import preprocessing\n",
    "from sklearn.preprocessing import LabelEncoder\n",
    "import pandas as pd\n",
    "import numpy as np\n",
    "from scipy import stats\n",
    "import matplotlib.pyplot as plt\n",
    "import matplotlib.font_manager\n",
    "import seaborn as sns\n"
   ]
  },
  {
   "cell_type": "code",
   "execution_count": 57,
   "metadata": {},
   "outputs": [],
   "source": [
    "# Import models\n",
    "from pyod.models.abod import ABOD\n",
    "from pyod.models.knn import KNN\n",
    "from pyod.models.hbos import HBOS\n",
    "from pyod.models.iforest import IForest\n",
    "from pyod.models.feature_bagging import FeatureBagging"
   ]
  },
  {
   "cell_type": "code",
   "execution_count": 58,
   "metadata": {},
   "outputs": [],
   "source": [
    "# reading the dataset\n",
    "df = pd.read_csv(\"public/data_source/rca.csv\")"
   ]
  },
  {
   "cell_type": "code",
   "execution_count": 59,
   "metadata": {},
   "outputs": [],
   "source": [
    "#df.plot.scatter('latency', 'source')"
   ]
  },
  {
   "cell_type": "code",
   "execution_count": 60,
   "metadata": {},
   "outputs": [],
   "source": [
    "le = preprocessing.LabelEncoder()\n",
    "le.fit(df['source'])\n",
    "LabelEncoder()\n",
    "list(le.classes_)\n",
    "sourceTransformed = le.transform(df['source'])"
   ]
  },
  {
   "cell_type": "code",
   "execution_count": 61,
   "metadata": {},
   "outputs": [],
   "source": [
    "X1 = df['latency'].values.reshape(-1,1)\n",
    "X2 = sourceTransformed.reshape(-1,1)\n",
    "\n",
    "X = np.concatenate((X1,X2), axis=1)"
   ]
  },
  {
   "cell_type": "code",
   "execution_count": 62,
   "metadata": {},
   "outputs": [],
   "source": [
    "# le = preprocessing.LabelEncoder()\n",
    "# test = pd.DataFrame(df.source)\n",
    "# sourceTransformed = le.fit_transform(test.values)\n",
    "\n",
    "# X1 = df.latency.values.reshape(-1,1)\n",
    "# X2 = sourceTransformed.reshape(-1,1)\n",
    "\n",
    "# X = np.concatenate((X1,X2), axis=1)"
   ]
  },
  {
   "cell_type": "code",
   "execution_count": 63,
   "metadata": {},
   "outputs": [],
   "source": [
    "outliers_fraction = 0.1\n",
    "# Test 4 different methods\n",
    "classifiers = {\n",
    "        'FeatureBagging': FeatureBagging(contamination=outliers_fraction),\n",
    "        'KNN': KNN(contamination=outliers_fraction),\n",
    "        'HBOS': HBOS(contamination=outliers_fraction),\n",
    "        'IForest': IForest(contamination=outliers_fraction)\n",
    "}"
   ]
  },
  {
   "cell_type": "code",
   "execution_count": null,
   "metadata": {},
   "outputs": [],
   "source": [
    "\n"
   ]
  },
  {
   "cell_type": "code",
   "execution_count": 67,
   "metadata": {},
   "outputs": [
    {
     "name": "stdout",
     "output_type": "stream",
     "text": [
      "\n",
      "\n",
      "OUTLIERS :  203 INLIERS :  1897 FeatureBagging\n",
      "                trace_id     timestamp  latency  succ      source      target\n",
      "0   868d91717444d4112006  1.587400e+12        4  True  docker_005      db_003\n",
      "3   868d91717444d4112006  1.587400e+12       40  True  docker_004  docker_005\n",
      "15  868d91717444d4112006  1.587400e+12        1  True  docker_005      db_003\n",
      "54  868d91717444d4112006  1.587400e+12        7  True  docker_004  docker_004\n",
      "60  2190e1717444d4129924  1.587400e+12        1  True  docker_007  docker_007\n",
      "61  2190e1717444d4129924  1.587400e+12       41  True  docker_001  docker_007\n",
      "73  2190e1717444d4129924  1.587400e+12        1  True  docker_007      db_003\n",
      "75  2190e1717444d4129924  1.587400e+12       23  True  docker_001  docker_007\n",
      "79  2190e1717444d4129924  1.587400e+12        4  True  docker_008  docker_008\n",
      "86  2190e1717444d4129924  1.587400e+12        4  True  docker_001  docker_001\n",
      "\n",
      "\n",
      "OUTLIERS :  98 INLIERS :  2002 KNN\n",
      "                 trace_id     timestamp  latency  succ      source      target\n",
      "3    868d91717444d4112006  1.587400e+12       40  True  docker_004  docker_005\n",
      "55   868d91717444d4112006  1.587400e+12       26  True      os_021  docker_004\n",
      "61   2190e1717444d4129924  1.587400e+12       41  True  docker_001  docker_007\n",
      "75   2190e1717444d4129924  1.587400e+12       23  True  docker_001  docker_007\n",
      "92   2190e1717444d4129924  1.587400e+12       54  True  docker_001  docker_001\n",
      "104  2190e1717444d4129924  1.587400e+12       72  True  docker_001  docker_001\n",
      "112  2190e1717444d4129924  1.587400e+12        9  True  docker_001  docker_001\n",
      "113  2190e1717444d4129924  1.587400e+12       40  True      os_022  docker_001\n",
      "115  2190e1717444d4129924  1.587400e+12      153  True        None      os_022\n",
      "119  22bc21717444d4152360  1.587400e+12       38  True  docker_001  docker_007\n",
      "\n",
      "\n",
      "OUTLIERS :  3 INLIERS :  2097 HBOS\n",
      "                 trace_id     timestamp  latency  succ source  target\n",
      "173  22bc21717444d4152360  1.587400e+12     4593  True   None  os_022\n",
      "347  9c1041717444d41b2364  1.587400e+12     4586  True   None  os_022\n",
      "811  a3a1c1717444da9f5304  1.587400e+12     2533  True   None  os_021\n",
      "\n",
      "\n",
      "OUTLIERS :  210 INLIERS :  1890 IForest\n",
      "                 trace_id     timestamp  latency  succ      source      target\n",
      "3    868d91717444d4112006  1.587400e+12       40  True  docker_004  docker_005\n",
      "10   868d91717444d4112006  1.587400e+12       26  True  docker_004  docker_005\n",
      "55   868d91717444d4112006  1.587400e+12       26  True      os_021  docker_004\n",
      "56   868d91717444d4112006  1.587400e+12        0  True      os_021      os_021\n",
      "57   868d91717444d4112006  1.587400e+12       27  True        None      os_021\n",
      "61   2190e1717444d4129924  1.587400e+12       41  True  docker_001  docker_007\n",
      "75   2190e1717444d4129924  1.587400e+12       23  True  docker_001  docker_007\n",
      "92   2190e1717444d4129924  1.587400e+12       54  True  docker_001  docker_001\n",
      "104  2190e1717444d4129924  1.587400e+12       72  True  docker_001  docker_001\n",
      "113  2190e1717444d4129924  1.587400e+12       40  True      os_022  docker_001\n"
     ]
    },
    {
     "data": {
      "text/plain": [
       "<Figure size 720x720 with 0 Axes>"
      ]
     },
     "metadata": {},
     "output_type": "display_data"
    }
   ],
   "source": [
    "xx, yy = np.meshgrid(np.linspace(-10, 10, 200), np.linspace(-10, 10, 200))\n",
    "plt.figure(figsize=(10, 10))\n",
    "\n",
    "for i, (clf_name, clf) in enumerate(classifiers.items()):\n",
    "    clf.fit(X)\n",
    "    # predict raw anomaly score\n",
    "    scores_pred = clf.decision_function(X) * -1\n",
    "\n",
    "    # prediction of a datapoint category outlier or inlier\n",
    "    y_pred = clf.predict(X)\n",
    "\n",
    "    np.unique(y_pred, return_counts=True)\n",
    "\n",
    "    n_inliers = len(y_pred) - np.count_nonzero(y_pred)\n",
    "    n_outliers = np.count_nonzero(y_pred == 1)\n",
    "\n",
    "    print('\\n\\nOUTLIERS : ', n_outliers, 'INLIERS : ', n_inliers, clf_name)\n",
    "\n",
    "    outliers = []\n",
    "    for index in range(len(y_pred)):        \n",
    "        if y_pred[index] == 1:\n",
    "            outliers.append(index)\n",
    "\n",
    "    # print(outliers)\n",
    "\n",
    "    outliersList = df.iloc[outliers, :]\n",
    "    print(outliersList.head(10))\n",
    "\n",
    "    #pd.DataFrame(outliersList).to_csv(\"public/results/\"+clf_name+\"_preresult.csv\")\n",
    "\n",
    "\n",
    "\n",
    "    # threshold value to consider a datapoint inlier or outlier - the probability that the prediction is true\n",
    "#    threshold = stats.scoreatpercentile(scores_pred, 100 * outliers_fraction)\n",
    "\n",
    "    # decision function calculates the raw anomaly score for every point\n",
    "#    Z = clf.decision_function(np.c_[xx.ravel(), yy.ravel()]) * -1\n",
    "#    Z = Z.reshape(xx.shape)\n",
    "\n",
    "    # plot outliers and contour\n",
    "#    subplot = plt .subplot(2, 2, i + 1)\n",
    "#    subplot.contour(xx, yy, Z, levels=np.linspace(Z.min(), threshold, 15))\n",
    "#    subplot.contour(xx, yy, Z, levels=[threshold], linewidths=2, colors='red')\n",
    "\n",
    "    # fill orange contour lines where range of anomaly score is from threshold to maximum anomaly score\n",
    "#    subplot.contour(xx, yy, Z, levels=[threshold, Z.max()], colors='blue')\n",
    "\n",
    "    # scatter plot of inliers with white dots\n",
    "#    subplot.scatter(X[:-n_outliers, 0], X[:-n_outliers, 1],c='white', s=12, edgecolor='g')\n",
    "    # scatter plot of outliers with black dots\n",
    "#    subplot.scatter(X[:-n_outliers, 0], X[:-n_outliers, 1],c='black', s=12, edgecolor='g')\n",
    "#    subplot.axis('tight')\n",
    "\n",
    "#    subplot.set_title(clf_name)\n",
    "#    subplot.set_xlim((-15, 15))\n",
    "#    subplot.set_ylim((-15, 15))\n",
    "\n",
    "#plt.show()\n",
    "\n"
   ]
  },
  {
   "cell_type": "code",
   "execution_count": null,
   "metadata": {},
   "outputs": [],
   "source": []
  }
 ],
 "metadata": {
  "kernelspec": {
   "display_name": "Python 3.10.5 64-bit",
   "language": "python",
   "name": "python3"
  },
  "language_info": {
   "codemirror_mode": {
    "name": "ipython",
    "version": 3
   },
   "file_extension": ".py",
   "mimetype": "text/x-python",
   "name": "python",
   "nbconvert_exporter": "python",
   "pygments_lexer": "ipython3",
   "version": "3.10.5"
  },
  "orig_nbformat": 4,
  "vscode": {
   "interpreter": {
    "hash": "26de051ba29f2982a8de78e945f0abaf191376122a1563185a90213a26c5da77"
   }
  }
 },
 "nbformat": 4,
 "nbformat_minor": 2
}
