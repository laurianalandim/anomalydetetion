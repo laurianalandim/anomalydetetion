{
 "cells": [
  {
   "cell_type": "code",
   "execution_count": 15,
   "metadata": {},
   "outputs": [],
   "source": [
    "from sklearn import preprocessing\n",
    "from sklearn.preprocessing import LabelEncoder\n",
    "from sklearn import metrics\n",
    "import pandas as pd\n",
    "from datetime import datetime, timedelta, timezone\n",
    "import time\n",
    "import numpy as np\n",
    "from scipy import stats\n",
    "import matplotlib.pyplot as plt\n",
    "import matplotlib.font_manager\n",
    "import seaborn as sns\n",
    "from sklearn.metrics import confusion_matrix\n",
    "from pyod.utils.example import visualize"
   ]
  },
  {
   "cell_type": "code",
   "execution_count": 16,
   "metadata": {},
   "outputs": [],
   "source": [
    "# Import models\n",
    "from pyod.models.abod import ABOD\n",
    "from pyod.models.knn import KNN\n",
    "from pyod.models.hbos import HBOS\n",
    "from pyod.models.iforest import IForest"
   ]
  },
  {
   "cell_type": "markdown",
   "metadata": {},
   "source": [
    "## Loading and Reviewing the Data"
   ]
  },
  {
   "cell_type": "code",
   "execution_count": 17,
   "metadata": {},
   "outputs": [],
   "source": [
    "# reading the dataset\n",
    "df = pd.read_csv(\"public/data_source/rca_dataset.csv\")\n",
    "faultsDataFrame = pd.read_csv(\"public/data_source/ret_info.csv\")"
   ]
  },
  {
   "cell_type": "markdown",
   "metadata": {},
   "source": [
    "##### Change \"succ\" from boolean to integer, True=1, False=0"
   ]
  },
  {
   "cell_type": "code",
   "execution_count": 18,
   "metadata": {},
   "outputs": [],
   "source": [
    "succ_map = {True : 1, False : 0}\n",
    "df['succ'] = df['succ'].map(succ_map)"
   ]
  },
  {
   "cell_type": "code",
   "execution_count": 19,
   "metadata": {},
   "outputs": [],
   "source": [
    "import datetime\n",
    "\n",
    "df['timestamp'] = df['timestamp'].apply(lambda d: datetime.datetime.fromtimestamp(int(d) / 1000))\n"
   ]
  },
  {
   "attachments": {},
   "cell_type": "markdown",
   "metadata": {},
   "source": [
    "##### Converting \"target\" to Int"
   ]
  },
  {
   "cell_type": "code",
   "execution_count": 20,
   "metadata": {},
   "outputs": [],
   "source": [
    "le = preprocessing.LabelEncoder()\n",
    "le.fit(df['target'])\n",
    "LabelEncoder()\n",
    "list(le.classes_)\n",
    "targetTransformed = le.transform(df['target'])"
   ]
  },
  {
   "attachments": {},
   "cell_type": "markdown",
   "metadata": {},
   "source": [
    "##### Concatenate features that will be used"
   ]
  },
  {
   "cell_type": "code",
   "execution_count": 21,
   "metadata": {},
   "outputs": [],
   "source": [
    "X1 = df['latency'].values.reshape(-1,1)\n",
    "X2 = targetTransformed.reshape(-1,1)\n",
    "\n",
    "X = np.concatenate((X1,X2), axis=1)"
   ]
  },
  {
   "cell_type": "markdown",
   "metadata": {},
   "source": [
    "#### Algorithms"
   ]
  },
  {
   "cell_type": "code",
   "execution_count": 22,
   "metadata": {},
   "outputs": [],
   "source": [
    "outliers_fraction = 0.1\n",
    "# Test 4 different methods\n",
    "classifiers = {\n",
    "        #'FeatureBagging': FeatureBagging(contamination=outliers_fraction),\n",
    "        'KNN': KNN(contamination=outliers_fraction),\n",
    "        #'HBOS': HBOS(contamination=outliers_fraction),\n",
    "        #'IForest': IForest(contamination=outliers_fraction)\n",
    "}"
   ]
  },
  {
   "cell_type": "code",
   "execution_count": 12,
   "metadata": {},
   "outputs": [],
   "source": [
    "def getConfusionMatrix(faults, predicted):\n",
    "    import datetime\n",
    "    \n",
    "    truePositive = []\n",
    "    trueNegative = []\n",
    "    falsePositive = []\n",
    "    falseNegative = []\n",
    "    #predicted = predicted.assign(date_time = list(map( lambda x: datetime.fromtimestamp(x/1000), predicted.timestamp)))\n",
    "    predicted = predicted.assign(date_time = lambda x: df['timestamp'])\n",
    "    #date_time = datetime.datetime.strptime(date_time,'%Y-%m-%d %H:%M:%S+08:00')\n",
    "    \n",
    "    \n",
    "    for i, act in faults.iterrows(): \n",
    "        #minTime = act.time_preliminary\n",
    "        minTime = datetime.datetime.strptime(act.time_preliminary,'%Y-%m-%d %H:%M:%S+08:00')\n",
    "        maxTime = minTime + timedelta(minutes=5)\n",
    "\n",
    "        truePositive.append(predicted.loc[(predicted.date_time >= minTime) & (predicted.date_time <= maxTime) & (predicted.outliers == 1) & (predicted.target == act.ground_truth)])\n",
    "        trueNegative.append(predicted.loc[predicted.outliers == 0])\n",
    "        falsePositive.append(predicted.loc[(predicted.date_time < minTime) | (predicted.date_time > maxTime) & (predicted.outliers == 1)])\n",
    "        falseNegative.append(predicted.loc[(predicted.date_time < minTime) | (predicted.date_time > maxTime) & (predicted.outliers == 0)])\n",
    "\n",
    "        del maxTime, minTime\n",
    "    \n",
    "    else: #remove all empty row\n",
    "        truePositive = list(filter(lambda dfTP: not dfTP.empty, truePositive))        \n",
    "        trueNegative = list(filter(lambda dfTN: not dfTN.empty, trueNegative))\n",
    "        falsePositive = list(filter(lambda dfFP: not dfFP.empty, falsePositive))\n",
    "        falseNegative = list(filter(lambda dfFN: not dfFN.empty, falseNegative))\n",
    "\n",
    "        count = 0\n",
    "        for i, *trueP in truePositive:\n",
    "             count = count + len(trueP)\n",
    "        print(\"True Positive: \", count)\n",
    "\n",
    "        count = 0\n",
    "        for i, *trueN in trueNegative:\n",
    "             count = count + len(trueN)\n",
    "        print(\"True Negative: \", count)\n",
    "\n",
    "        count = 0\n",
    "        for i, *falseP in falsePositive:\n",
    "             count = count + len(falseP)\n",
    "        print(\"False Positive: \", count)\n",
    "\n",
    "        count = 0\n",
    "        for i, *falseN in falseNegative:\n",
    "             count = count + len(falseN)\n",
    "        print(\"False Negative: \", count)\n",
    "\n",
    "    return "
   ]
  },
  {
   "cell_type": "code",
   "execution_count": null,
   "metadata": {},
   "outputs": [],
   "source": [
    "#xx, yy = np.meshgrid(np.linspace(-10, 10, 200), np.linspace(-10, 10, 401244))\n",
    "#plt.figure(figsize=(10, 10))\n",
    "\n",
    "for i, (clf_name, clf) in enumerate(classifiers.items()):\n",
    "    clf.fit(X)\n",
    "\n",
    "    y_pred = clf.predict(X)\n",
    "    scores_pred = clf.decision_function(X) * -1\n",
    "\n",
    "    np.unique(y_pred, return_counts=True)\n",
    "\n",
    "    n_inliers = len(y_pred) - np.count_nonzero(y_pred)\n",
    "    n_outliers = np.count_nonzero(y_pred == 1)\n",
    "\n",
    "    outliers = np.where(y_pred == 1)\n",
    "    #outliersList = df.iloc[outliers[0], :]\n",
    "\n",
    "    print('\\n\\nOUTLIERS: ', n_outliers, 'INLIERS: ', n_inliers, clf_name)\n",
    "    # print(outliersList.head(5))\n",
    "\n",
    "    predicted = df.assign(outliers=y_pred)\n",
    "    \n",
    "    #getConfusionMatrix(faultsDataFrame, predicted)\n",
    "    print(predicted.head(5))\n",
    "\n",
    "    # visualize the results\n",
    "    # visualize(clf_name, X_train, y_train, X_test, y_test, y_train_pred, y_test_pred=y_pred, show_figure=False, save_figure=True)\n",
    "    visualize(clf_name, y_test_pred=y_pred, show_figure=False, save_figure=True)\n",
    "\n"
   ]
  }
 ],
 "metadata": {
  "kernelspec": {
   "display_name": "Python 3",
   "language": "python",
   "name": "python3"
  },
  "language_info": {
   "codemirror_mode": {
    "name": "ipython",
    "version": 3
   },
   "file_extension": ".py",
   "mimetype": "text/x-python",
   "name": "python",
   "nbconvert_exporter": "python",
   "pygments_lexer": "ipython3",
   "version": "3.10.5"
  },
  "orig_nbformat": 4,
  "vscode": {
   "interpreter": {
    "hash": "26de051ba29f2982a8de78e945f0abaf191376122a1563185a90213a26c5da77"
   }
  }
 },
 "nbformat": 4,
 "nbformat_minor": 2
}
