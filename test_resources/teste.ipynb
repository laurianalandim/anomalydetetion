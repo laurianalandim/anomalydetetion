{
 "cells": [
  {
   "cell_type": "code",
   "execution_count": 1,
   "metadata": {},
   "outputs": [],
   "source": [
    "from sklearn import preprocessing\n",
    "from sklearn.preprocessing import LabelEncoder\n",
    "from sklearn.preprocessing import MinMaxScaler\n",
    "import pandas as pd\n",
    "import numpy as np\n",
    "from scipy import stats\n",
    "import matplotlib.pyplot as plt\n",
    "import matplotlib.font_manager\n",
    "import seaborn as sns"
   ]
  },
  {
   "cell_type": "code",
   "execution_count": 2,
   "metadata": {},
   "outputs": [],
   "source": [
    "# Import models\n",
    "from pyod.models.abod import ABOD\n",
    "from pyod.models.knn import KNN\n",
    "from pyod.models.hbos import HBOS\n",
    "from pyod.models.iforest import IForest\n",
    "from pyod.utils.data import get_outliers_inliers\n",
    "from sklearn.preprocessing import MinMaxScaler"
   ]
  },
  {
   "cell_type": "code",
   "execution_count": 3,
   "metadata": {},
   "outputs": [],
   "source": [
    "# reading the dataset\n",
    "df = pd.read_csv(\"rca.csv\")"
   ]
  },
  {
   "cell_type": "code",
   "execution_count": 4,
   "metadata": {},
   "outputs": [
    {
     "data": {
      "text/plain": [
       "<AxesSubplot:xlabel='latency', ylabel='source'>"
      ]
     },
     "execution_count": 4,
     "metadata": {},
     "output_type": "execute_result"
    },
    {
     "data": {
      "image/png": "[encoded data removed]",
      "text/plain": [
       "<Figure size 432x288 with 1 Axes>"
      ]
     },
     "metadata": {
      "needs_background": "light"
     },
     "output_type": "display_data"
    }
   ],
   "source": [
    "df.plot.scatter('latency', 'source')"
   ]
  },
  {
   "cell_type": "code",
   "execution_count": 5,
   "metadata": {},
   "outputs": [
    {
     "name": "stdout",
     "output_type": "stream",
     "text": [
      "[5 5 5 ... 7 1 1]\n",
      "0        4\n",
      "1        2\n",
      "2        2\n",
      "3       40\n",
      "4        0\n",
      "        ..\n",
      "2095     3\n",
      "2096     3\n",
      "2097     1\n",
      "2098    14\n",
      "2099     0\n",
      "Name: latency, Length: 2100, dtype: int64\n"
     ]
    }
   ],
   "source": [
    "le = preprocessing.LabelEncoder()\n",
    "le.fit(df['source'])\n",
    "LabelEncoder()\n",
    "list(le.classes_)\n",
    "sourceTranformed = le.transform(df['source'])\n",
    "print(sourceTranformed)\n",
    "print(df['latency'])"
   ]
  },
  {
   "cell_type": "code",
   "execution_count": 6,
   "metadata": {},
   "outputs": [],
   "source": [
    "# scaler = MinMaxScaler(feature_range=(0, 1))\n",
    "# df[['latency']] = scaler.fit_transform(df[['latency']])\n",
    "# sourceTranformed = scaler.fit_transform(sourceTranformed)"
   ]
  },
  {
   "cell_type": "code",
   "execution_count": 7,
   "metadata": {},
   "outputs": [
    {
     "name": "stdout",
     "output_type": "stream",
     "text": [
      "[[ 4]\n",
      " [ 2]\n",
      " [ 2]\n",
      " ...\n",
      " [ 1]\n",
      " [14]\n",
      " [ 0]]\n",
      "[[5]\n",
      " [5]\n",
      " [5]\n",
      " ...\n",
      " [7]\n",
      " [1]\n",
      " [1]]\n"
     ]
    }
   ],
   "source": [
    "X1 = df['latency'].values.reshape(-1,1)\n",
    "X2 = sourceTranformed.reshape(-1,1)\n",
    "\n",
    "print(X1)\n",
    "print(X2)\n",
    "\n",
    "X = np.concatenate((X1,X2), axis=1)"
   ]
  },
  {
   "cell_type": "code",
   "execution_count": 8,
   "metadata": {},
   "outputs": [],
   "source": [
    "outliers_fraction = 0.2\n",
    "# Test 4 different methods\n",
    "classifiers = {\n",
    "        'ABOD': ABOD(contamination=outliers_fraction),\n",
    "        'KNN': KNN(contamination=outliers_fraction),\n",
    "        'HBOS': HBOS(contamination=outliers_fraction),\n",
    "        'IForest': IForest(contamination=outliers_fraction)\n",
    "}"
   ]
  },
  {
   "cell_type": "code",
   "execution_count": 9,
   "metadata": {},
   "outputs": [
    {
     "name": "stderr",
     "output_type": "stream",
     "text": [
      "C:\\Users\\licen\\AppData\\Roaming\\Python\\Python310\\site-packages\\numpy\\core\\fromnumeric.py:3757: RuntimeWarning: Degrees of freedom <= 0 for slice\n",
      "  return _methods._var(a, axis=axis, dtype=dtype, out=out, ddof=ddof,\n",
      "C:\\Users\\licen\\AppData\\Roaming\\Python\\Python310\\site-packages\\numpy\\core\\_methods.py:222: RuntimeWarning: invalid value encountered in true_divide\n",
      "  arrmean = um.true_divide(arrmean, div, out=arrmean, casting='unsafe',\n",
      "C:\\Users\\licen\\AppData\\Roaming\\Python\\Python310\\site-packages\\numpy\\core\\_methods.py:256: RuntimeWarning: invalid value encountered in double_scalars\n",
      "  ret = ret.dtype.type(ret / rcount)\n"
     ]
    },
    {
     "ename": "TypingError",
     "evalue": "Failed in nopython mode pipeline (step: nopython frontend)\n\u001b[1m\u001b[1m\u001b[1mNo implementation of function Function(<function dot at 0x00000197BCA88D30>) found for signature:\n \n >>> dot(array(int64, 1d, C), array(int64, 1d, C))\n \nThere are 4 candidate implementations:\n\u001b[1m  - Of which 4 did not match due to:\n  Overload in function '_OverloadWrapper._build.<locals>.ol_generated': File: numba\\core\\overload_glue.py: Line 131.\n    With argument(s): '(array(int64, 1d, C), array(int64, 1d, C))':\u001b[0m\n\u001b[1m   Rejected as the implementation raised a specific error:\n     TypingError: Failed in nopython mode pipeline (step: nopython frontend)\n   \u001b[1m\u001b[1m\u001b[1mNo implementation of function Function(<intrinsic stub>) found for signature:\n    \n    >>> stub(array(int64, 1d, C), array(int64, 1d, C))\n    \n   There are 2 candidate implementations:\n   \u001b[1m  - Of which 2 did not match due to:\n     Intrinsic in function 'stub': File: numba\\core\\overload_glue.py: Line 35.\n       With argument(s): '(array(int64, 1d, C), array(int64, 1d, C))':\u001b[0m\n   \u001b[1m   Rejected as the implementation raised a specific error:\n        TypingError: \u001b[1mnp.dot() only supported on float and complex arrays\u001b[0m\u001b[0m\n     raised from C:\\Users\\licen\\AppData\\Roaming\\Python\\Python310\\site-packages\\numba\\core\\typing\\npydecl.py:970\n   \u001b[0m\n   \u001b[0m\u001b[1mDuring: resolving callee type: Function(<intrinsic stub>)\u001b[0m\n   \u001b[0m\u001b[1mDuring: typing of call at <string> (3)\n   \u001b[0m\n   \u001b[1m\n   File \"<string>\", line 3:\u001b[0m\n   \u001b[1m<source missing, REPL/exec in use?>\u001b[0m\n\u001b[0m\n  raised from C:\\Users\\licen\\AppData\\Roaming\\Python\\Python310\\site-packages\\numba\\core\\typeinfer.py:1086\n\u001b[0m\n\u001b[0m\u001b[1mDuring: resolving callee type: Function(<function dot at 0x00000197BCA88D30>)\u001b[0m\n\u001b[0m\u001b[1mDuring: typing of call at c:\\workspace\\anomalydetetion\\pyod\\models\\abod.py (50)\n\u001b[0m\n\u001b[1m\nFile \"pyod\\models\\abod.py\", line 50:\u001b[0m\n\u001b[1mdef _wcos(curr_pt, a, b):  # pragma: no cover\n    <source elided>\n    # wcos = (<a_curr, b_curr>/((|a_curr|*|b_curr|)^2)\n\u001b[1m    wcos = np.dot(a_curr, b_curr) / (\n\u001b[0m    \u001b[1m^\u001b[0m\u001b[0m\n",
     "output_type": "error",
     "traceback": [
      "\u001b[1;31m---------------------------------------------------------------------------\u001b[0m",
      "\u001b[1;31mTypingError\u001b[0m                               Traceback (most recent call last)",
      "\u001b[1;32mc:\\workspace\\anomalydetetion\\teste.ipynb Cell 9'\u001b[0m in \u001b[0;36m<cell line: 4>\u001b[1;34m()\u001b[0m\n\u001b[0;32m      <a href='vscode-notebook-cell:/c%3A/workspace/anomalydetetion/teste.ipynb#ch0000008?line=1'>2</a>\u001b[0m plt\u001b[39m.\u001b[39mfigure(figsize\u001b[39m=\u001b[39m(\u001b[39m10\u001b[39m, \u001b[39m10\u001b[39m))\n\u001b[0;32m      <a href='vscode-notebook-cell:/c%3A/workspace/anomalydetetion/teste.ipynb#ch0000008?line=3'>4</a>\u001b[0m \u001b[39mfor\u001b[39;00m i, (clf_name, clf) \u001b[39min\u001b[39;00m \u001b[39menumerate\u001b[39m (classifiers\u001b[39m.\u001b[39mitems()):\n\u001b[1;32m----> <a href='vscode-notebook-cell:/c%3A/workspace/anomalydetetion/teste.ipynb#ch0000008?line=4'>5</a>\u001b[0m     clf\u001b[39m.\u001b[39;49mfit(X)\n\u001b[0;32m      <a href='vscode-notebook-cell:/c%3A/workspace/anomalydetetion/teste.ipynb#ch0000008?line=5'>6</a>\u001b[0m     \u001b[39m# predict raw anomaly score\u001b[39;00m\n\u001b[0;32m      <a href='vscode-notebook-cell:/c%3A/workspace/anomalydetetion/teste.ipynb#ch0000008?line=6'>7</a>\u001b[0m     scores_pred \u001b[39m=\u001b[39m clf\u001b[39m.\u001b[39mdecision_function(X) \u001b[39m*\u001b[39m \u001b[39m-\u001b[39m\u001b[39m1\u001b[39m\n",
      "File \u001b[1;32mc:\\workspace\\anomalydetetion\\pyod\\models\\abod.py:171\u001b[0m, in \u001b[0;36mABOD.fit\u001b[1;34m(self, X, y)\u001b[0m\n\u001b[0;32m    168\u001b[0m \u001b[39mself\u001b[39m\u001b[39m.\u001b[39mdecision_scores_ \u001b[39m=\u001b[39m np\u001b[39m.\u001b[39mzeros([\u001b[39mself\u001b[39m\u001b[39m.\u001b[39mn_train_, \u001b[39m1\u001b[39m])\n\u001b[0;32m    170\u001b[0m \u001b[39mif\u001b[39;00m \u001b[39mself\u001b[39m\u001b[39m.\u001b[39mmethod \u001b[39m==\u001b[39m \u001b[39m'\u001b[39m\u001b[39mfast\u001b[39m\u001b[39m'\u001b[39m:\n\u001b[1;32m--> 171\u001b[0m     \u001b[39mself\u001b[39;49m\u001b[39m.\u001b[39;49m_fit_fast()\n\u001b[0;32m    172\u001b[0m \u001b[39melif\u001b[39;00m \u001b[39mself\u001b[39m\u001b[39m.\u001b[39mmethod \u001b[39m==\u001b[39m \u001b[39m'\u001b[39m\u001b[39mdefault\u001b[39m\u001b[39m'\u001b[39m:\n\u001b[0;32m    173\u001b[0m     \u001b[39mself\u001b[39m\u001b[39m.\u001b[39m_fit_default()\n",
      "File \u001b[1;32mc:\\workspace\\anomalydetetion\\pyod\\models\\abod.py:222\u001b[0m, in \u001b[0;36mABOD._fit_fast\u001b[1;34m(self)\u001b[0m\n\u001b[0;32m    220\u001b[0m     curr_pt \u001b[39m=\u001b[39m \u001b[39mself\u001b[39m\u001b[39m.\u001b[39mX_train_[i, :]\n\u001b[0;32m    221\u001b[0m     X_ind \u001b[39m=\u001b[39m ind_arr[i, :]\n\u001b[1;32m--> 222\u001b[0m     \u001b[39mself\u001b[39m\u001b[39m.\u001b[39mdecision_scores_[i, \u001b[39m0\u001b[39m] \u001b[39m=\u001b[39m _calculate_wocs(curr_pt,\n\u001b[0;32m    223\u001b[0m                                                   \u001b[39mself\u001b[39;49m\u001b[39m.\u001b[39;49mX_train_,\n\u001b[0;32m    224\u001b[0m                                                   X_ind)\n\u001b[0;32m    225\u001b[0m \u001b[39mreturn\u001b[39;00m \u001b[39mself\u001b[39m\n",
      "File \u001b[1;32mc:\\workspace\\anomalydetetion\\pyod\\models\\abod.py:87\u001b[0m, in \u001b[0;36m_calculate_wocs\u001b[1;34m(curr_pt, X, X_ind)\u001b[0m\n\u001b[0;32m     85\u001b[0m         \u001b[39mcontinue\u001b[39;00m\n\u001b[0;32m     86\u001b[0m     \u001b[39m# add the weighted cosine to the list\u001b[39;00m\n\u001b[1;32m---> 87\u001b[0m     wcos_list\u001b[39m.\u001b[39mappend(_wcos(curr_pt, a, b))\n\u001b[0;32m     88\u001b[0m \u001b[39mreturn\u001b[39;00m np\u001b[39m.\u001b[39mvar(wcos_list)\n",
      "File \u001b[1;32m~\\AppData\\Roaming\\Python\\Python310\\site-packages\\numba\\core\\dispatcher.py:468\u001b[0m, in \u001b[0;36m_DispatcherBase._compile_for_args\u001b[1;34m(self, *args, **kws)\u001b[0m\n\u001b[0;32m    464\u001b[0m         msg \u001b[39m=\u001b[39m (\u001b[39mf\u001b[39m\u001b[39m\"\u001b[39m\u001b[39m{\u001b[39;00m\u001b[39mstr\u001b[39m(e)\u001b[39m.\u001b[39mrstrip()\u001b[39m}\u001b[39;00m\u001b[39m \u001b[39m\u001b[39m\\n\u001b[39;00m\u001b[39m\\n\u001b[39;00m\u001b[39mThis error may have been caused \u001b[39m\u001b[39m\"\u001b[39m\n\u001b[0;32m    465\u001b[0m                \u001b[39mf\u001b[39m\u001b[39m\"\u001b[39m\u001b[39mby the following argument(s):\u001b[39m\u001b[39m\\n\u001b[39;00m\u001b[39m{\u001b[39;00margs_str\u001b[39m}\u001b[39;00m\u001b[39m\\n\u001b[39;00m\u001b[39m\"\u001b[39m)\n\u001b[0;32m    466\u001b[0m         e\u001b[39m.\u001b[39mpatch_message(msg)\n\u001b[1;32m--> 468\u001b[0m     error_rewrite(e, \u001b[39m'\u001b[39;49m\u001b[39mtyping\u001b[39;49m\u001b[39m'\u001b[39;49m)\n\u001b[0;32m    469\u001b[0m \u001b[39mexcept\u001b[39;00m errors\u001b[39m.\u001b[39mUnsupportedError \u001b[39mas\u001b[39;00m e:\n\u001b[0;32m    470\u001b[0m     \u001b[39m# Something unsupported is present in the user code, add help info\u001b[39;00m\n\u001b[0;32m    471\u001b[0m     error_rewrite(e, \u001b[39m'\u001b[39m\u001b[39munsupported_error\u001b[39m\u001b[39m'\u001b[39m)\n",
      "File \u001b[1;32m~\\AppData\\Roaming\\Python\\Python310\\site-packages\\numba\\core\\dispatcher.py:409\u001b[0m, in \u001b[0;36m_DispatcherBase._compile_for_args.<locals>.error_rewrite\u001b[1;34m(e, issue_type)\u001b[0m\n\u001b[0;32m    407\u001b[0m     \u001b[39mraise\u001b[39;00m e\n\u001b[0;32m    408\u001b[0m \u001b[39melse\u001b[39;00m:\n\u001b[1;32m--> 409\u001b[0m     \u001b[39mraise\u001b[39;00m e\u001b[39m.\u001b[39mwith_traceback(\u001b[39mNone\u001b[39;00m)\n",
      "\u001b[1;31mTypingError\u001b[0m: Failed in nopython mode pipeline (step: nopython frontend)\n\u001b[1m\u001b[1m\u001b[1mNo implementation of function Function(<function dot at 0x00000197BCA88D30>) found for signature:\n \n >>> dot(array(int64, 1d, C), array(int64, 1d, C))\n \nThere are 4 candidate implementations:\n\u001b[1m  - Of which 4 did not match due to:\n  Overload in function '_OverloadWrapper._build.<locals>.ol_generated': File: numba\\core\\overload_glue.py: Line 131.\n    With argument(s): '(array(int64, 1d, C), array(int64, 1d, C))':\u001b[0m\n\u001b[1m   Rejected as the implementation raised a specific error:\n     TypingError: Failed in nopython mode pipeline (step: nopython frontend)\n   \u001b[1m\u001b[1m\u001b[1mNo implementation of function Function(<intrinsic stub>) found for signature:\n    \n    >>> stub(array(int64, 1d, C), array(int64, 1d, C))\n    \n   There are 2 candidate implementations:\n   \u001b[1m  - Of which 2 did not match due to:\n     Intrinsic in function 'stub': File: numba\\core\\overload_glue.py: Line 35.\n       With argument(s): '(array(int64, 1d, C), array(int64, 1d, C))':\u001b[0m\n   \u001b[1m   Rejected as the implementation raised a specific error:\n        TypingError: \u001b[1mnp.dot() only supported on float and complex arrays\u001b[0m\u001b[0m\n     raised from C:\\Users\\licen\\AppData\\Roaming\\Python\\Python310\\site-packages\\numba\\core\\typing\\npydecl.py:970\n   \u001b[0m\n   \u001b[0m\u001b[1mDuring: resolving callee type: Function(<intrinsic stub>)\u001b[0m\n   \u001b[0m\u001b[1mDuring: typing of call at <string> (3)\n   \u001b[0m\n   \u001b[1m\n   File \"<string>\", line 3:\u001b[0m\n   \u001b[1m<source missing, REPL/exec in use?>\u001b[0m\n\u001b[0m\n  raised from C:\\Users\\licen\\AppData\\Roaming\\Python\\Python310\\site-packages\\numba\\core\\typeinfer.py:1086\n\u001b[0m\n\u001b[0m\u001b[1mDuring: resolving callee type: Function(<function dot at 0x00000197BCA88D30>)\u001b[0m\n\u001b[0m\u001b[1mDuring: typing of call at c:\\workspace\\anomalydetetion\\pyod\\models\\abod.py (50)\n\u001b[0m\n\u001b[1m\nFile \"pyod\\models\\abod.py\", line 50:\u001b[0m\n\u001b[1mdef _wcos(curr_pt, a, b):  # pragma: no cover\n    <source elided>\n    # wcos = (<a_curr, b_curr>/((|a_curr|*|b_curr|)^2)\n\u001b[1m    wcos = np.dot(a_curr, b_curr) / (\n\u001b[0m    \u001b[1m^\u001b[0m\u001b[0m\n"
     ]
    },
    {
     "data": {
      "text/plain": [
       "<Figure size 720x720 with 0 Axes>"
      ]
     },
     "metadata": {},
     "output_type": "display_data"
    }
   ],
   "source": [
    "xx , yy = np.meshgrid(np.linspace(-10, 10, 200), np.linspace(-10, 10, 200))\n",
    "plt.figure(figsize=(10, 10))\n",
    "\n",
    "for i, (clf_name, clf) in enumerate (classifiers.items()):\n",
    "    clf.fit(X)\n",
    "    # predict raw anomaly score\n",
    "    scores_pred = clf.decision_function(X) * -1\n",
    "\n",
    "    # prediction of a datapoint category outlier or inlier\n",
    "    y_pred = clf.predict(X)\n",
    "    n_inliers = len(y_pred) - np.count_nonzero(y_pred)\n",
    "    n_outliers = np.count_nonzero(y_pred == 1)\n",
    "    \n",
    "    # threshold value to consider a datapoint inlier or outlier\n",
    "    threshold = stats.scoreatpercentile(scores_pred,100 * outliers_fraction)\n",
    "\n",
    "    # decision function calculates the raw anomaly score for every point\n",
    "    Z = clf.decision_function(np.c_[xx.ravel(), yy.ravel()]) * -1\n",
    "    ZZ = Z.reshape(xx.shape)\n",
    "\n",
    "    # plot outliers and contour\n",
    "    subplot = plt .subplot(2, 2, i + 1)\n",
    "    subplot.contour(xx, yy, ZZ, levels = np.linspace(Z.min(), threshold, 15))\n",
    "    subplot.contour(xx, yy, ZZ, levels = [threshold], linewidths=2, colors='red')\n",
    "\n",
    "    # fill orange contour lines where range of anomaly score is from threshold to maximum anomaly score\n",
    "    subplot.contour(xx, yy, ZZ, levels=[threshold, Z.max()], colors='blue')\n",
    "\n",
    "    # scatter plot of inliers with white dots\n",
    "    subplot.scatter(X[:-n_outliers, 0], X[:-n_outliers, 1], c='white', s=12, edgecolor='g')\n",
    "    # scatter plot of outliers with black dots\n",
    "    subplot.scatter(X[:-n_outliers, 0], X[:-n_outliers, 1], c='black', s=12, edgecolor='g')\n",
    "    subplot.axis('tight')\n",
    "\n",
    "    subplot.set_title(clf_name)\n",
    "    subplot.set_xlim((-15, 15))\n",
    "    subplot.set_ylim((-15, 15))\n",
    "plt.show()\n"
   ]
  }
 ],
 "metadata": {
  "kernelspec": {
   "display_name": "Python 3.10.4 64-bit",
   "language": "python",
   "name": "python3"
  },
  "language_info": {
   "codemirror_mode": {
    "name": "ipython",
    "version": 3
   },
   "file_extension": ".py",
   "mimetype": "text/x-python",
   "name": "python",
   "nbconvert_exporter": "python",
   "pygments_lexer": "ipython3",
   "version": "3.10.4"
  },
  "orig_nbformat": 4,
  "vscode": {
   "interpreter": {
    "hash": "916dbcbb3f70747c44a77c7bcd40155683ae19c65e1c03b4aa3499c5328201f1"
   }
  }
 },
 "nbformat": 4,
 "nbformat_minor": 2
}
