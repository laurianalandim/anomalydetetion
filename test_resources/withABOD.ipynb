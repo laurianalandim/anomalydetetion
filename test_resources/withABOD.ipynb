{
 "cells": [
  {
   "cell_type": "code",
   "execution_count": 1,
   "id": "ec8aea43",
   "metadata": {},
   "outputs": [
    {
     "name": "stdout",
     "output_type": "stream",
     "text": [
      "Defaulting to user installation because normal site-packages is not writeable\n",
      "Requirement already satisfied: seaborn in /home/hadoop/.local/lib/python3.10/site-packages (0.12.0)\n",
      "Requirement already satisfied: matplotlib>=3.1 in /home/hadoop/.local/lib/python3.10/site-packages (from seaborn) (3.6.0)\n",
      "Requirement already satisfied: pandas>=0.25 in /home/hadoop/.local/lib/python3.10/site-packages (from seaborn) (1.5.0)\n",
      "Requirement already satisfied: numpy>=1.17 in /home/hadoop/.local/lib/python3.10/site-packages (from seaborn) (1.23.3)\n",
      "Requirement already satisfied: contourpy>=1.0.1 in /home/hadoop/.local/lib/python3.10/site-packages (from matplotlib>=3.1->seaborn) (1.0.5)\n",
      "Requirement already satisfied: fonttools>=4.22.0 in /home/hadoop/.local/lib/python3.10/site-packages (from matplotlib>=3.1->seaborn) (4.37.3)\n",
      "Requirement already satisfied: cycler>=0.10 in /home/hadoop/.local/lib/python3.10/site-packages (from matplotlib>=3.1->seaborn) (0.11.0)\n",
      "Requirement already satisfied: pyparsing>=2.2.1 in /usr/lib/python3/dist-packages (from matplotlib>=3.1->seaborn) (2.4.7)\n",
      "Requirement already satisfied: packaging>=20.0 in /home/hadoop/.local/lib/python3.10/site-packages (from matplotlib>=3.1->seaborn) (21.3)\n",
      "Requirement already satisfied: pillow>=6.2.0 in /home/hadoop/.local/lib/python3.10/site-packages (from matplotlib>=3.1->seaborn) (9.2.0)\n",
      "Requirement already satisfied: kiwisolver>=1.0.1 in /home/hadoop/.local/lib/python3.10/site-packages (from matplotlib>=3.1->seaborn) (1.4.4)\n",
      "Requirement already satisfied: python-dateutil>=2.7 in /home/hadoop/.local/lib/python3.10/site-packages (from matplotlib>=3.1->seaborn) (2.8.2)\n",
      "Requirement already satisfied: pytz>=2020.1 in /usr/lib/python3/dist-packages (from pandas>=0.25->seaborn) (2022.1)\n",
      "Requirement already satisfied: six>=1.5 in /usr/lib/python3/dist-packages (from python-dateutil>=2.7->matplotlib>=3.1->seaborn) (1.16.0)\n",
      "Note: you may need to restart the kernel to use updated packages.\n"
     ]
    }
   ],
   "source": [
    "%pip install seaborn"
   ]
  },
  {
   "cell_type": "code",
   "execution_count": 2,
   "id": "3cb21f28-af9a-4fca-a035-1a167ae34e49",
   "metadata": {
    "tags": []
   },
   "outputs": [],
   "source": [
    "import pandas as pd\n",
    "import numpy as np\n",
    "import matplotlib.pyplot as plt\n",
    "import seaborn as sns\n",
    "import matplotlib.font_manager"
   ]
  },
  {
   "cell_type": "code",
   "execution_count": 3,
   "id": "4c02254a-d0bd-4cf1-9769-0d0630853452",
   "metadata": {},
   "outputs": [],
   "source": [
    "from pyod.models.abod import ABOD"
   ]
  },
  {
   "cell_type": "code",
   "execution_count": 7,
   "id": "709b82ad-170e-40c0-a470-3929ced0c6db",
   "metadata": {
    "tags": []
   },
   "outputs": [],
   "source": [
    "df = pd.read_csv(\"../public/data_source/rca_dataset.csv\")"
   ]
  },
  {
   "cell_type": "code",
   "execution_count": null,
   "id": "870c92ec-32b4-4ba4-b530-b78fc9c32724",
   "metadata": {},
   "outputs": [],
   "source": [
    "df.head(100)"
   ]
  },
  {
   "cell_type": "code",
   "execution_count": 8,
   "id": "b74fb1de-cf5f-4cd6-9689-605c5ae6f1ed",
   "metadata": {},
   "outputs": [
    {
     "name": "stderr",
     "output_type": "stream",
     "text": [
      "/home/hadoop/.local/lib/python3.10/site-packages/numpy/core/fromnumeric.py:3715: RuntimeWarning: Degrees of freedom <= 0 for slice\n",
      "  return _methods._var(a, axis=axis, dtype=dtype, out=out, ddof=ddof,\n",
      "/home/hadoop/.local/lib/python3.10/site-packages/numpy/core/_methods.py:223: RuntimeWarning: invalid value encountered in divide\n",
      "  arrmean = um.true_divide(arrmean, div, out=arrmean, casting='unsafe',\n",
      "/home/hadoop/.local/lib/python3.10/site-packages/numpy/core/_methods.py:257: RuntimeWarning: invalid value encountered in double_scalars\n",
      "  ret = ret.dtype.type(ret / rcount)\n"
     ]
    },
    {
     "ename": "TypingError",
     "evalue": "Failed in nopython mode pipeline (step: nopython frontend)\n\u001b[1m\u001b[1m\u001b[1mNo implementation of function Function(<function dot at 0x7f4a1c11af80>) found for signature:\n \n >>> dot(array(int64, 1d, C), array(int64, 1d, C))\n \nThere are 4 candidate implementations:\n\u001b[1m  - Of which 4 did not match due to:\n  Overload in function '_OverloadWrapper._build.<locals>.ol_generated': File: numba/core/overload_glue.py: Line 129.\n    With argument(s): '(array(int64, 1d, C), array(int64, 1d, C))':\u001b[0m\n\u001b[1m   Rejected as the implementation raised a specific error:\n     TypingError: \u001b[1mnp.dot() only supported on float and complex arrays\u001b[0m\u001b[0m\n  raised from /home/hadoop/.local/lib/python3.10/site-packages/numba/core/typing/npydecl.py:918\n\u001b[0m\n\u001b[0m\u001b[1mDuring: resolving callee type: Function(<function dot at 0x7f4a1c11af80>)\u001b[0m\n\u001b[0m\u001b[1mDuring: typing of call at /home/hadoop/.local/lib/python3.10/site-packages/pyod/models/abod.py (51)\n\u001b[0m\n\u001b[1m\nFile \"../../../.local/lib/python3.10/site-packages/pyod/models/abod.py\", line 51:\u001b[0m\n\u001b[1mdef _wcos(curr_pt, a, b):  # pragma: no cover\n    <source elided>\n    # wcos = (<a_curr, b_curr>/((|a_curr|*|b_curr|)^2)\n\u001b[1m    wcos = np.dot(a_curr, b_curr) / (\n\u001b[0m    \u001b[1m^\u001b[0m\u001b[0m\n",
     "output_type": "error",
     "traceback": [
      "\u001b[0;31m---------------------------------------------------------------------------\u001b[0m",
      "\u001b[0;31mTypingError\u001b[0m                               Traceback (most recent call last)",
      "Cell \u001b[0;32mIn [8], line 2\u001b[0m\n\u001b[1;32m      1\u001b[0m detector \u001b[39m=\u001b[39m ABOD()\n\u001b[0;32m----> 2\u001b[0m detector\u001b[39m.\u001b[39;49mfit(df\u001b[39m.\u001b[39;49miloc[:,\u001b[39m1\u001b[39;49m:\u001b[39m4\u001b[39;49m])\n",
      "File \u001b[0;32m~/.local/lib/python3.10/site-packages/pyod/models/abod.py:172\u001b[0m, in \u001b[0;36mABOD.fit\u001b[0;34m(self, X, y)\u001b[0m\n\u001b[1;32m    169\u001b[0m \u001b[39mself\u001b[39m\u001b[39m.\u001b[39mdecision_scores_ \u001b[39m=\u001b[39m np\u001b[39m.\u001b[39mzeros([\u001b[39mself\u001b[39m\u001b[39m.\u001b[39mn_train_, \u001b[39m1\u001b[39m])\n\u001b[1;32m    171\u001b[0m \u001b[39mif\u001b[39;00m \u001b[39mself\u001b[39m\u001b[39m.\u001b[39mmethod \u001b[39m==\u001b[39m \u001b[39m'\u001b[39m\u001b[39mfast\u001b[39m\u001b[39m'\u001b[39m:\n\u001b[0;32m--> 172\u001b[0m     \u001b[39mself\u001b[39;49m\u001b[39m.\u001b[39;49m_fit_fast()\n\u001b[1;32m    173\u001b[0m \u001b[39melif\u001b[39;00m \u001b[39mself\u001b[39m\u001b[39m.\u001b[39mmethod \u001b[39m==\u001b[39m \u001b[39m'\u001b[39m\u001b[39mdefault\u001b[39m\u001b[39m'\u001b[39m:\n\u001b[1;32m    174\u001b[0m     \u001b[39mself\u001b[39m\u001b[39m.\u001b[39m_fit_default()\n",
      "File \u001b[0;32m~/.local/lib/python3.10/site-packages/pyod/models/abod.py:223\u001b[0m, in \u001b[0;36mABOD._fit_fast\u001b[0;34m(self)\u001b[0m\n\u001b[1;32m    221\u001b[0m     curr_pt \u001b[39m=\u001b[39m \u001b[39mself\u001b[39m\u001b[39m.\u001b[39mX_train_[i, :]\n\u001b[1;32m    222\u001b[0m     X_ind \u001b[39m=\u001b[39m ind_arr[i, :]\n\u001b[0;32m--> 223\u001b[0m     \u001b[39mself\u001b[39m\u001b[39m.\u001b[39mdecision_scores_[i, \u001b[39m0\u001b[39m] \u001b[39m=\u001b[39m _calculate_wocs(curr_pt,\n\u001b[1;32m    224\u001b[0m                                                   \u001b[39mself\u001b[39;49m\u001b[39m.\u001b[39;49mX_train_,\n\u001b[1;32m    225\u001b[0m                                                   X_ind)\n\u001b[1;32m    226\u001b[0m \u001b[39mreturn\u001b[39;00m \u001b[39mself\u001b[39m\n",
      "File \u001b[0;32m~/.local/lib/python3.10/site-packages/pyod/models/abod.py:88\u001b[0m, in \u001b[0;36m_calculate_wocs\u001b[0;34m(curr_pt, X, X_ind)\u001b[0m\n\u001b[1;32m     86\u001b[0m         \u001b[39mcontinue\u001b[39;00m\n\u001b[1;32m     87\u001b[0m     \u001b[39m# add the weighted cosine to the list\u001b[39;00m\n\u001b[0;32m---> 88\u001b[0m     wcos_list\u001b[39m.\u001b[39mappend(_wcos(curr_pt, a, b))\n\u001b[1;32m     89\u001b[0m \u001b[39mreturn\u001b[39;00m np\u001b[39m.\u001b[39mvar(wcos_list)\n",
      "File \u001b[0;32m~/.local/lib/python3.10/site-packages/numba/core/dispatcher.py:468\u001b[0m, in \u001b[0;36m_DispatcherBase._compile_for_args\u001b[0;34m(self, *args, **kws)\u001b[0m\n\u001b[1;32m    464\u001b[0m         msg \u001b[39m=\u001b[39m (\u001b[39mf\u001b[39m\u001b[39m\"\u001b[39m\u001b[39m{\u001b[39;00m\u001b[39mstr\u001b[39m(e)\u001b[39m.\u001b[39mrstrip()\u001b[39m}\u001b[39;00m\u001b[39m \u001b[39m\u001b[39m\\n\u001b[39;00m\u001b[39m\\n\u001b[39;00m\u001b[39mThis error may have been caused \u001b[39m\u001b[39m\"\u001b[39m\n\u001b[1;32m    465\u001b[0m                \u001b[39mf\u001b[39m\u001b[39m\"\u001b[39m\u001b[39mby the following argument(s):\u001b[39m\u001b[39m\\n\u001b[39;00m\u001b[39m{\u001b[39;00margs_str\u001b[39m}\u001b[39;00m\u001b[39m\\n\u001b[39;00m\u001b[39m\"\u001b[39m)\n\u001b[1;32m    466\u001b[0m         e\u001b[39m.\u001b[39mpatch_message(msg)\n\u001b[0;32m--> 468\u001b[0m     error_rewrite(e, \u001b[39m'\u001b[39;49m\u001b[39mtyping\u001b[39;49m\u001b[39m'\u001b[39;49m)\n\u001b[1;32m    469\u001b[0m \u001b[39mexcept\u001b[39;00m errors\u001b[39m.\u001b[39mUnsupportedError \u001b[39mas\u001b[39;00m e:\n\u001b[1;32m    470\u001b[0m     \u001b[39m# Something unsupported is present in the user code, add help info\u001b[39;00m\n\u001b[1;32m    471\u001b[0m     error_rewrite(e, \u001b[39m'\u001b[39m\u001b[39munsupported_error\u001b[39m\u001b[39m'\u001b[39m)\n",
      "File \u001b[0;32m~/.local/lib/python3.10/site-packages/numba/core/dispatcher.py:409\u001b[0m, in \u001b[0;36m_DispatcherBase._compile_for_args.<locals>.error_rewrite\u001b[0;34m(e, issue_type)\u001b[0m\n\u001b[1;32m    407\u001b[0m     \u001b[39mraise\u001b[39;00m e\n\u001b[1;32m    408\u001b[0m \u001b[39melse\u001b[39;00m:\n\u001b[0;32m--> 409\u001b[0m     \u001b[39mraise\u001b[39;00m e\u001b[39m.\u001b[39mwith_traceback(\u001b[39mNone\u001b[39;00m)\n",
      "\u001b[0;31mTypingError\u001b[0m: Failed in nopython mode pipeline (step: nopython frontend)\n\u001b[1m\u001b[1m\u001b[1mNo implementation of function Function(<function dot at 0x7f4a1c11af80>) found for signature:\n \n >>> dot(array(int64, 1d, C), array(int64, 1d, C))\n \nThere are 4 candidate implementations:\n\u001b[1m  - Of which 4 did not match due to:\n  Overload in function '_OverloadWrapper._build.<locals>.ol_generated': File: numba/core/overload_glue.py: Line 129.\n    With argument(s): '(array(int64, 1d, C), array(int64, 1d, C))':\u001b[0m\n\u001b[1m   Rejected as the implementation raised a specific error:\n     TypingError: \u001b[1mnp.dot() only supported on float and complex arrays\u001b[0m\u001b[0m\n  raised from /home/hadoop/.local/lib/python3.10/site-packages/numba/core/typing/npydecl.py:918\n\u001b[0m\n\u001b[0m\u001b[1mDuring: resolving callee type: Function(<function dot at 0x7f4a1c11af80>)\u001b[0m\n\u001b[0m\u001b[1mDuring: typing of call at /home/hadoop/.local/lib/python3.10/site-packages/pyod/models/abod.py (51)\n\u001b[0m\n\u001b[1m\nFile \"../../../.local/lib/python3.10/site-packages/pyod/models/abod.py\", line 51:\u001b[0m\n\u001b[1mdef _wcos(curr_pt, a, b):  # pragma: no cover\n    <source elided>\n    # wcos = (<a_curr, b_curr>/((|a_curr|*|b_curr|)^2)\n\u001b[1m    wcos = np.dot(a_curr, b_curr) / (\n\u001b[0m    \u001b[1m^\u001b[0m\u001b[0m\n"
     ]
    }
   ],
   "source": [
    "detector = ABOD()\n",
    "detector.fit(df.iloc[:,1:4])"
   ]
  },
  {
   "cell_type": "code",
   "execution_count": null,
   "id": "8915c848-e22a-4bcc-91cd-f82ebe018295",
   "metadata": {},
   "outputs": [],
   "source": [
    "previsoes = detector.labels_\n",
    "previsoes"
   ]
  },
  {
   "cell_type": "code",
   "execution_count": null,
   "id": "cac28c8c-c099-40ca-ba55-415831afd4bf",
   "metadata": {},
   "outputs": [],
   "source": [
    "np.unique(previsoes, return_counts=True)"
   ]
  },
  {
   "cell_type": "code",
   "execution_count": null,
   "id": "27df9043-90ef-4b45-b430-3c0c55563698",
   "metadata": {},
   "outputs": [],
   "source": [
    "confianca_previsoes = detector.decision_scores_\n",
    "confianca_previsoes"
   ]
  },
  {
   "cell_type": "code",
   "execution_count": null,
   "id": "edd640db-3518-43c9-8893-8f4eb6585888",
   "metadata": {},
   "outputs": [],
   "source": [
    "outliers = []\n",
    "for i in range(len(previsoes)):\n",
    "    #print(i)\n",
    "    if previsoes[i] == 1:\n",
    "        outliers.append(i)"
   ]
  },
  {
   "cell_type": "code",
   "execution_count": null,
   "id": "d71bf7b5-ec8e-4b1a-8243-286abb47714e",
   "metadata": {},
   "outputs": [],
   "source": [
    "print(outliers)"
   ]
  },
  {
   "cell_type": "code",
   "execution_count": null,
   "id": "1ce8a3ce-bcb2-437c-95b9-05ef37b0a307",
   "metadata": {},
   "outputs": [],
   "source": [
    "lista_outliers = df.iloc[outliers,:]\n",
    "lista_outliers"
   ]
  }
 ],
 "metadata": {
  "kernelspec": {
   "display_name": "Python 3.10.4 64-bit",
   "language": "python",
   "name": "python3"
  },
  "language_info": {
   "codemirror_mode": {
    "name": "ipython",
    "version": 3
   },
   "file_extension": ".py",
   "mimetype": "text/x-python",
   "name": "python",
   "nbconvert_exporter": "python",
   "pygments_lexer": "ipython3",
   "version": "3.10.6 (main, Nov 14 2022, 16:10:14) [GCC 11.3.0]"
  },
  "vscode": {
   "interpreter": {
    "hash": "916dbcbb3f70747c44a77c7bcd40155683ae19c65e1c03b4aa3499c5328201f1"
   }
  }
 },
 "nbformat": 4,
 "nbformat_minor": 5
}
